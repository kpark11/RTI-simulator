{
 "cells": [
  {
   "cell_type": "markdown",
   "id": "9089ca9f",
   "metadata": {},
   "source": [
    "# Eden Band Competition\n",
    "### This is a documentation of model training process\n",
    "<br>\n",
    "Based on the literature search, SVM is the most commonly used technique with the best accuracies. We will train SVM and try to use SVM.<br>\n",
    "However, We will implement multiple models to compare since recent papers (such as https://www.ncbi.nlm.nih.gov/pmc/articles/PMC9453302/) show deep learning to be effective. We can try to constructure the model as the paper outlines. <br>\n",
    "\n",
    "We can compare the metrics as well as the latency of the model for real-time inference."
   ]
  },
  {
   "cell_type": "code",
   "execution_count": 313,
   "id": "11f824e8",
   "metadata": {},
   "outputs": [],
   "source": [
    "import sys,os\n",
    "from zipfile import ZipFile \n",
    "\n",
    "import pandas as pd\n",
    "import numpy as np\n",
    "import matplotlib.pyplot as plt\n",
    "import sys, os\n",
    "import io\n",
    "import json\n",
    "import mne\n",
    "\n",
    "from scipy.io import loadmat\n",
    "from scipy.signal import welch\n",
    "\n",
    "from sklearn.model_selection import train_test_split\n",
    "from sklearn.svm import OneClassSVM\n",
    "from sklearn.metrics import classification_report\n",
    "from sklearn.pipeline import make_pipeline\n",
    "from sklearn.model_selection import StratifiedKFold, cross_val_score, cross_val_predict\n",
    "from sklearn.preprocessing import StandardScaler\n",
    "from sklearn.svm import SVC\n",
    "\n",
    "from pyriemann.embedding import SpectralEmbedding\n",
    "from pyriemann.classification import MDM\n",
    "from pyriemann.estimation import Covariances\n",
    "\n",
    "from tensorflow import keras\n",
    "from tensorflow.keras.models import Sequential\n",
    "from tensorflow.keras.layers import Dense, LSTM, Dropout, RepeatVector, TimeDistributed"
   ]
  },
  {
   "cell_type": "code",
   "execution_count": 2,
   "id": "b4a43e86",
   "metadata": {},
   "outputs": [],
   "source": [
    "# loading the temp.zip and creating a zip object \n",
    "with ZipFile(r\"C:\\Users\\brian\\OneDrive - University of Tennessee\\Desktop\\Research\\Python program\\EdenBand\\NBM_Driving_Fatigue_Data.zip\", 'r') as zObject:\n",
    "    # Extracting all the members of the zip  \n",
    "    # into a specific location. \n",
    "    zObject.extractall( \n",
    "        path=r\"C:\\Users\\brian\\OneDrive - University of Tennessee\\Desktop\\Research\\Python program\\EdenBand\\Data\") "
   ]
  },
  {
   "cell_type": "code",
   "execution_count": 2,
   "id": "d90a084f",
   "metadata": {},
   "outputs": [
    {
     "name": "stdout",
     "output_type": "stream",
     "text": [
      "['Sub1-1__result.mat', 'Sub10-1__result.mat', 'Sub10-2__result.mat', 'Sub11-1__result.mat', 'Sub11-2__result.mat', 'Sub12-1__result.mat', 'Sub12-2__result.mat', 'Sub13-1__result.mat', 'Sub13-2__result.mat', 'Sub14-1__result.mat', 'Sub14-2__result.mat', 'Sub3-1__result.mat', 'Sub3-2__result.mat', 'Sub4-1__result.mat', 'Sub4-2__result.mat', 'Sub5-1__result.mat', 'Sub5-2__result.mat', 'Sub6-1__result.mat', 'Sub7-1__result.mat', 'Sub8-1__result.mat', 'Sub8-2__result.mat', 'Sub9-1__result.mat', 'Sub9-2__result.mat']\n"
     ]
    }
   ],
   "source": [
    "path = r'C:\\Users\\brian\\OneDrive - University of Tennessee\\Desktop\\Research\\Python program\\EdenBand\\Data'\n",
    "files = os.listdir(path)\n",
    "print(files)"
   ]
  },
  {
   "cell_type": "code",
   "execution_count": 3,
   "id": "e0070e9a",
   "metadata": {},
   "outputs": [],
   "source": [
    "# a function to extract data from a single file\n",
    "def get_data(files):\n",
    "    file_path = r'C:\\Users\\brian\\OneDrive - University of Tennessee\\Desktop\\Research\\Python program\\EdenBand\\Data\\\\'\n",
    "    data = []\n",
    "    for i in range(len(files)):\n",
    "        print('-'*100)\n",
    "        print(i)\n",
    "        print(files[i])\n",
    "        file = loadmat(file_path + files[i])\n",
    "        file['name'] = files[i]\n",
    "        print(file)\n",
    "        data.append(file)\n",
    "    \n",
    "    return data"
   ]
  },
  {
   "cell_type": "code",
   "execution_count": 4,
   "id": "7f6c55b0",
   "metadata": {},
   "outputs": [
    {
     "name": "stdout",
     "output_type": "stream",
     "text": [
      "----------------------------------------------------------------------------------------------------\n",
      "0\n",
      "Sub1-1__result.mat\n",
      "{'__header__': b'MATLAB 5.0 MAT-file, Platform: PCWIN64, Created on: Sun Jun  2 22:02:08 2024', '__version__': '1.0', '__globals__': [], 'KSS': array([[1.00000000e+01, 3.00000000e+00],\n",
      "       [9.45710204e+02, 6.00000000e+00],\n",
      "       [1.82272653e+03, 6.00000000e+00],\n",
      "       [2.70885306e+03, 6.00000000e+00],\n",
      "       [3.61122449e+03, 9.00000000e+00]]), 'NBM_TABR': array([[nan],\n",
      "       [nan],\n",
      "       [nan],\n",
      "       ...,\n",
      "       [nan],\n",
      "       [nan],\n",
      "       [nan]]), 'ts_NBM_Sim': array([[ 120.   ],\n",
      "       [ 120.004],\n",
      "       [ 120.008],\n",
      "       ...,\n",
      "       [4147.992],\n",
      "       [4147.996],\n",
      "       [4148.   ]]), 'name': 'Sub1-1__result.mat'}\n",
      "----------------------------------------------------------------------------------------------------\n",
      "1\n",
      "Sub10-1__result.mat\n",
      "{'__header__': b'MATLAB 5.0 MAT-file, Platform: PCWIN64, Created on: Sun Jun  2 22:40:50 2024', '__version__': '1.0', '__globals__': [], 'KSS': array([[9.86363636e-01, 4.00000000e+00],\n",
      "       [1.02430909e+03, 4.00000000e+00],\n",
      "       [2.04795000e+03, 4.00000000e+00],\n",
      "       [3.07761364e+03, 4.00000000e+00],\n",
      "       [4.10448182e+03, 5.00000000e+00],\n",
      "       [5.13485000e+03, 5.00000000e+00]]), 'NBM_TABR': array([[        nan],\n",
      "       [        nan],\n",
      "       [        nan],\n",
      "       ...,\n",
      "       [-4.56092866],\n",
      "       [-4.56121978],\n",
      "       [-4.56151092]]), 'ts_NBM_Sim': array([[ 110.   ],\n",
      "       [ 110.004],\n",
      "       [ 110.008],\n",
      "       ...,\n",
      "       [5897.992],\n",
      "       [5897.996],\n",
      "       [5898.   ]]), 'name': 'Sub10-1__result.mat'}\n",
      "----------------------------------------------------------------------------------------------------\n",
      "2\n",
      "Sub10-2__result.mat\n",
      "{'__header__': b'MATLAB 5.0 MAT-file, Platform: PCWIN64, Created on: Sun Jun  2 22:41:10 2024', '__version__': '1.0', '__globals__': [], 'KSS': array([[  12.48636364,    6.        ],\n",
      "       [1027.35454545,    5.        ],\n",
      "       [2016.92727273,    6.        ],\n",
      "       [2932.25      ,    7.        ],\n",
      "       [3791.70909091,    7.        ],\n",
      "       [4653.80454545,    7.        ]]), 'NBM_TABR': array([[        nan],\n",
      "       [        nan],\n",
      "       [        nan],\n",
      "       ...,\n",
      "       [23.01159512],\n",
      "       [23.01220023],\n",
      "       [23.01280565]]), 'ts_NBM_Sim': array([[  90.   ],\n",
      "       [  90.004],\n",
      "       [  90.008],\n",
      "       ...,\n",
      "       [5295.992],\n",
      "       [5295.996],\n",
      "       [5296.   ]]), 'name': 'Sub10-2__result.mat'}\n",
      "----------------------------------------------------------------------------------------------------\n",
      "3\n",
      "Sub11-1__result.mat\n",
      "{'__header__': b'MATLAB 5.0 MAT-file, Platform: PCWIN64, Created on: Sun Jun  2 22:41:43 2024', '__version__': '1.0', '__globals__': [], 'KSS': array([[6.24545455e+00, 4.00000000e+00],\n",
      "       [1.02417273e+03, 4.00000000e+00],\n",
      "       [2.04626818e+03, 4.00000000e+00],\n",
      "       [3.07602273e+03, 4.00000000e+00],\n",
      "       [4.10638182e+03, 4.00000000e+00],\n",
      "       [5.13107727e+03, 5.00000000e+00]]), 'NBM_TABR': array([[       nan],\n",
      "       [       nan],\n",
      "       [       nan],\n",
      "       ...,\n",
      "       [1.03721083],\n",
      "       [1.03704809],\n",
      "       [1.03688498]]), 'ts_NBM_Sim': array([[ 120.    ],\n",
      "       [ 120.0045],\n",
      "       [ 120.009 ],\n",
      "       ...,\n",
      "       [5264.9895],\n",
      "       [5264.994 ],\n",
      "       [5264.9985]]), 'name': 'Sub11-1__result.mat'}\n",
      "----------------------------------------------------------------------------------------------------\n",
      "4\n",
      "Sub11-2__result.mat\n",
      "{'__header__': b'MATLAB 5.0 MAT-file, Platform: PCWIN64, Created on: Sun Jun  2 22:41:57 2024', '__version__': '1.0', '__globals__': [], 'KSS': array([[1.11909091e+01, 5.00000000e+00],\n",
      "       [1.03162727e+03, 5.00000000e+00],\n",
      "       [2.06183636e+03, 6.00000000e+00],\n",
      "       [3.07984091e+03, 6.00000000e+00],\n",
      "       [4.10484545e+03, 6.00000000e+00],\n",
      "       [5.13041818e+03, 6.00000000e+00]]), 'NBM_TABR': array([[         nan],\n",
      "       [         nan],\n",
      "       [         nan],\n",
      "       ...,\n",
      "       [-12.00930579],\n",
      "       [-12.01017683],\n",
      "       [-12.01104834]]), 'ts_NBM_Sim': array([[ 150.   ],\n",
      "       [ 150.004],\n",
      "       [ 150.008],\n",
      "       ...,\n",
      "       [5555.992],\n",
      "       [5555.996],\n",
      "       [5556.   ]]), 'name': 'Sub11-2__result.mat'}\n",
      "----------------------------------------------------------------------------------------------------\n",
      "5\n",
      "Sub12-1__result.mat\n",
      "{'__header__': b'MATLAB 5.0 MAT-file, Platform: PCWIN64, Created on: Sun Jun  2 22:42:29 2024', '__version__': '1.0', '__globals__': [], 'KSS': array([[3.00454545e+00, 3.00000000e+00],\n",
      "       [1.02014545e+03, 3.00000000e+00],\n",
      "       [2.04396818e+03, 3.00000000e+00],\n",
      "       [3.06622273e+03, 3.00000000e+00],\n",
      "       [4.09472727e+03, 3.00000000e+00]]), 'NBM_TABR': array([[         nan],\n",
      "       [         nan],\n",
      "       [         nan],\n",
      "       ...,\n",
      "       [-33.42114131],\n",
      "       [-33.421037  ],\n",
      "       [-33.42093037]]), 'ts_NBM_Sim': array([[ 120.    ],\n",
      "       [ 120.0045],\n",
      "       [ 120.009 ],\n",
      "       ...,\n",
      "       [5050.9875],\n",
      "       [5050.992 ],\n",
      "       [5050.9965]]), 'name': 'Sub12-1__result.mat'}\n",
      "----------------------------------------------------------------------------------------------------\n",
      "6\n",
      "Sub12-2__result.mat\n",
      "{'__header__': b'MATLAB 5.0 MAT-file, Platform: PCWIN64, Created on: Sun Jun  2 22:42:47 2024', '__version__': '1.0', '__globals__': [], 'KSS': array([[4.45909091e+00, 5.00000000e+00],\n",
      "       [1.02112273e+03, 6.00000000e+00],\n",
      "       [2.04455909e+03, 6.00000000e+00],\n",
      "       [3.05702273e+03, 5.00000000e+00],\n",
      "       [4.05013636e+03, 6.00000000e+00],\n",
      "       [5.04171364e+03, 5.00000000e+00]]), 'NBM_TABR': array([[         nan],\n",
      "       [         nan],\n",
      "       [         nan],\n",
      "       ...,\n",
      "       [-12.34060023],\n",
      "       [-12.34002896],\n",
      "       [-12.33945803]]), 'ts_NBM_Sim': array([[ 120.   ],\n",
      "       [ 120.004],\n",
      "       [ 120.008],\n",
      "       ...,\n",
      "       [5252.992],\n",
      "       [5252.996],\n",
      "       [5253.   ]]), 'name': 'Sub12-2__result.mat'}\n",
      "----------------------------------------------------------------------------------------------------\n",
      "7\n",
      "Sub13-1__result.mat\n",
      "{'__header__': b'MATLAB 5.0 MAT-file, Platform: PCWIN64, Created on: Sun Jun  2 22:43:17 2024', '__version__': '1.0', '__globals__': [], 'KSS': array([[4.09863636e+01, 3.00000000e+00],\n",
      "       [9.34309091e+02, 4.00000000e+00],\n",
      "       [1.86015455e+03, 4.00000000e+00],\n",
      "       [2.73845455e+03, 4.00000000e+00],\n",
      "       [3.61093636e+03, 3.00000000e+00]]), 'NBM_TABR': array([[       nan],\n",
      "       [       nan],\n",
      "       [       nan],\n",
      "       ...,\n",
      "       [4.09648214],\n",
      "       [4.096768  ],\n",
      "       [4.09705384]]), 'ts_NBM_Sim': array([[ 110.    ],\n",
      "       [ 110.0045],\n",
      "       [ 110.009 ],\n",
      "       ...,\n",
      "       [3731.987 ],\n",
      "       [3731.9915],\n",
      "       [3731.996 ]]), 'name': 'Sub13-1__result.mat'}\n",
      "----------------------------------------------------------------------------------------------------\n",
      "8\n",
      "Sub13-2__result.mat\n",
      "{'__header__': b'MATLAB 5.0 MAT-file, Platform: PCWIN64, Created on: Sun Jun  2 22:43:34 2024', '__version__': '1.0', '__globals__': [], 'KSS': array([[7.25909091e+00, 3.00000000e+00],\n",
      "       [9.54081818e+02, 6.00000000e+00],\n",
      "       [1.77630455e+03, 6.00000000e+00],\n",
      "       [2.63334091e+03, 7.00000000e+00],\n",
      "       [3.40893636e+03, 5.00000000e+00]]), 'NBM_TABR': array([[        nan],\n",
      "       [        nan],\n",
      "       [        nan],\n",
      "       ...,\n",
      "       [-1.21289962],\n",
      "       [-1.21329778],\n",
      "       [-1.21369666]]), 'ts_NBM_Sim': array([[  90.    ],\n",
      "       [  90.0045],\n",
      "       [  90.009 ],\n",
      "       ...,\n",
      "       [3509.991 ],\n",
      "       [3509.9955],\n",
      "       [3510.    ]]), 'name': 'Sub13-2__result.mat'}\n",
      "----------------------------------------------------------------------------------------------------\n",
      "9\n",
      "Sub14-1__result.mat\n",
      "{'__header__': b'MATLAB 5.0 MAT-file, Platform: PCWIN64, Created on: Sun Jun  2 22:44:07 2024', '__version__': '1.0', '__globals__': [], 'KSS': array([[3.16818182e+00, 2.00000000e+00],\n",
      "       [8.85740909e+02, 4.00000000e+00],\n",
      "       [1.92120000e+03, 3.00000000e+00],\n",
      "       [2.71952273e+03, 7.00000000e+00],\n",
      "       [3.64902727e+03, 6.00000000e+00]]), 'NBM_TABR': array([[       nan],\n",
      "       [       nan],\n",
      "       [       nan],\n",
      "       ...,\n",
      "       [4.80477756],\n",
      "       [4.80465686],\n",
      "       [4.80453589]]), 'ts_NBM_Sim': array([[ 110.    ],\n",
      "       [ 110.0045],\n",
      "       [ 110.009 ],\n",
      "       ...,\n",
      "       [3762.9875],\n",
      "       [3762.992 ],\n",
      "       [3762.9965]]), 'name': 'Sub14-1__result.mat'}\n",
      "----------------------------------------------------------------------------------------------------\n",
      "10\n",
      "Sub14-2__result.mat\n",
      "{'__header__': b'MATLAB 5.0 MAT-file, Platform: PCWIN64, Created on: Sun Jun  2 22:44:29 2024', '__version__': '1.0', '__globals__': [], 'KSS': array([[  45.41818182,    5.        ],\n",
      "       [ 945.24090909,    6.        ],\n",
      "       [1788.56818182,    7.        ],\n",
      "       [2635.77272727,    7.        ],\n",
      "       [3453.41363636,    9.        ]]), 'NBM_TABR': array([[        nan],\n",
      "       [        nan],\n",
      "       [        nan],\n",
      "       ...,\n",
      "       [10.93909621],\n",
      "       [10.93938128],\n",
      "       [10.93966536]]), 'ts_NBM_Sim': array([[ 110.    ],\n",
      "       [ 110.0045],\n",
      "       [ 110.009 ],\n",
      "       ...,\n",
      "       [3566.99  ],\n",
      "       [3566.9945],\n",
      "       [3566.999 ]]), 'name': 'Sub14-2__result.mat'}\n",
      "----------------------------------------------------------------------------------------------------\n",
      "11\n",
      "Sub3-1__result.mat\n",
      "{'__header__': b'MATLAB 5.0 MAT-file, Platform: PCWIN64, Created on: Sun Jun  2 22:35:29 2024', '__version__': '1.0', '__globals__': [], 'KSS': array([[3.85318182e+01, 4.00000000e+00],\n",
      "       [1.05874091e+03, 3.00000000e+00],\n",
      "       [1.88260909e+03, 2.00000000e+00],\n",
      "       [2.79238636e+03, 2.00000000e+00],\n",
      "       [3.70520909e+03, 2.00000000e+00]]), 'NBM_TABR': array([[       nan],\n",
      "       [       nan],\n",
      "       [       nan],\n",
      "       ...,\n",
      "       [3.40870647],\n",
      "       [3.40915768],\n",
      "       [3.40960891]]), 'ts_NBM_Sim': array([[0.000000e+00],\n",
      "       [4.000000e-03],\n",
      "       [8.000000e-03],\n",
      "       ...,\n",
      "       [3.710992e+03],\n",
      "       [3.710996e+03],\n",
      "       [3.711000e+03]]), 'name': 'Sub3-1__result.mat'}\n",
      "----------------------------------------------------------------------------------------------------\n",
      "12\n",
      "Sub3-2__result.mat\n"
     ]
    },
    {
     "name": "stdout",
     "output_type": "stream",
     "text": [
      "{'__header__': b'MATLAB 5.0 MAT-file, Platform: PCWIN64, Created on: Sun Jun  2 22:35:48 2024', '__version__': '1.0', '__globals__': [], 'KSS': array([[   5.89545455,    5.        ],\n",
      "       [ 945.15      ,    6.        ],\n",
      "       [1800.01818182,    7.        ],\n",
      "       [2723.20454545,    8.        ],\n",
      "       [3501.82272727,    9.        ]]), 'NBM_TABR': array([[        nan],\n",
      "       [        nan],\n",
      "       [        nan],\n",
      "       ...,\n",
      "       [12.89606542],\n",
      "       [12.8963748 ],\n",
      "       [12.89668347]]), 'ts_NBM_Sim': array([[0.000000e+00],\n",
      "       [4.000000e-03],\n",
      "       [8.000000e-03],\n",
      "       ...,\n",
      "       [3.506992e+03],\n",
      "       [3.506996e+03],\n",
      "       [3.507000e+03]]), 'name': 'Sub3-2__result.mat'}\n",
      "----------------------------------------------------------------------------------------------------\n",
      "13\n",
      "Sub4-1__result.mat\n",
      "{'__header__': b'MATLAB 5.0 MAT-file, Platform: PCWIN64, Created on: Sun Jun  2 22:36:28 2024', '__version__': '1.0', '__globals__': [], 'KSS': array([[2.98636364e+00, 3.00000000e+00],\n",
      "       [9.43286364e+02, 2.00000000e+00],\n",
      "       [1.85908636e+03, 6.00000000e+00],\n",
      "       [2.56836364e+03, 7.00000000e+00],\n",
      "       [3.31445909e+03, 6.00000000e+00]]), 'NBM_TABR': array([[       nan],\n",
      "       [       nan],\n",
      "       [       nan],\n",
      "       ...,\n",
      "       [1.05086685],\n",
      "       [1.05125775],\n",
      "       [1.05164894]]), 'ts_NBM_Sim': array([[0.000000e+00],\n",
      "       [4.000000e-03],\n",
      "       [8.000000e-03],\n",
      "       ...,\n",
      "       [3.319992e+03],\n",
      "       [3.319996e+03],\n",
      "       [3.320000e+03]]), 'name': 'Sub4-1__result.mat'}\n",
      "----------------------------------------------------------------------------------------------------\n",
      "14\n",
      "Sub4-2__result.mat\n",
      "{'__header__': b'MATLAB 5.0 MAT-file, Platform: PCWIN64, Created on: Sun Jun  2 22:36:47 2024', '__version__': '1.0', '__globals__': [], 'KSS': array([[   5.89545455,    5.        ],\n",
      "       [ 945.15      ,    6.        ],\n",
      "       [1800.01818182,    7.        ],\n",
      "       [2723.20454545,    8.        ],\n",
      "       [3501.82272727,    9.        ]]), 'NBM_TABR': array([[        nan],\n",
      "       [        nan],\n",
      "       [        nan],\n",
      "       ...,\n",
      "       [12.89606542],\n",
      "       [12.8963748 ],\n",
      "       [12.89668347]]), 'ts_NBM_Sim': array([[0.000000e+00],\n",
      "       [4.000000e-03],\n",
      "       [8.000000e-03],\n",
      "       ...,\n",
      "       [3.506992e+03],\n",
      "       [3.506996e+03],\n",
      "       [3.507000e+03]]), 'name': 'Sub4-2__result.mat'}\n",
      "----------------------------------------------------------------------------------------------------\n",
      "15\n",
      "Sub5-1__result.mat\n",
      "{'__header__': b'MATLAB 5.0 MAT-file, Platform: PCWIN64, Created on: Sun Jun  2 22:37:14 2024', '__version__': '1.0', '__globals__': [], 'KSS': array([[4.54545455e-03, 3.00000000e+00],\n",
      "       [9.38718182e+02, 5.00000000e+00],\n",
      "       [1.85279091e+03, 5.00000000e+00],\n",
      "       [2.74795455e+03, 6.00000000e+00],\n",
      "       [3.64027727e+03, 6.00000000e+00]]), 'NBM_TABR': array([[       nan],\n",
      "       [       nan],\n",
      "       [       nan],\n",
      "       ...,\n",
      "       [3.16339547],\n",
      "       [3.16407575],\n",
      "       [3.16475147]]), 'ts_NBM_Sim': array([[ 120.   ],\n",
      "       [ 120.004],\n",
      "       [ 120.008],\n",
      "       ...,\n",
      "       [4519.992],\n",
      "       [4519.996],\n",
      "       [4520.   ]]), 'name': 'Sub5-1__result.mat'}\n",
      "----------------------------------------------------------------------------------------------------\n",
      "16\n",
      "Sub5-2__result.mat\n",
      "{'__header__': b'MATLAB 5.0 MAT-file, Platform: PCWIN64, Created on: Sun Jun  2 22:37:31 2024', '__version__': '1.0', '__globals__': [], 'KSS': array([[4.54545455e-03, 3.00000000e+00],\n",
      "       [9.37422727e+02, 5.00000000e+00],\n",
      "       [1.83681364e+03, 5.00000000e+00],\n",
      "       [2.71213636e+03, 7.00000000e+00],\n",
      "       [3.57014091e+03, 5.00000000e+00]]), 'NBM_TABR': array([[        nan],\n",
      "       [        nan],\n",
      "       [        nan],\n",
      "       ...,\n",
      "       [-4.03245215],\n",
      "       [-4.03155878],\n",
      "       [-4.03066438]]), 'ts_NBM_Sim': array([[ 120.   ],\n",
      "       [ 120.004],\n",
      "       [ 120.008],\n",
      "       ...,\n",
      "       [4322.992],\n",
      "       [4322.996],\n",
      "       [4323.   ]]), 'name': 'Sub5-2__result.mat'}\n",
      "----------------------------------------------------------------------------------------------------\n",
      "17\n",
      "Sub6-1__result.mat\n",
      "{'__header__': b'MATLAB 5.0 MAT-file, Platform: PCWIN64, Created on: Sun Jun  2 22:37:53 2024', '__version__': '1.0', '__globals__': [], 'KSS': array([[4.54545455e-03, 3.00000000e+00],\n",
      "       [8.86263636e+02, 3.00000000e+00],\n",
      "       [1.76095000e+03, 5.00000000e+00],\n",
      "       [2.63663636e+03, 6.00000000e+00],\n",
      "       [3.51073182e+03, 3.00000000e+00]]), 'NBM_TABR': array([[       nan],\n",
      "       [       nan],\n",
      "       [       nan],\n",
      "       ...,\n",
      "       [8.94237351],\n",
      "       [8.94258258],\n",
      "       [8.94279178]]), 'ts_NBM_Sim': array([[ 120.    ],\n",
      "       [ 120.0045],\n",
      "       [ 120.009 ],\n",
      "       ...,\n",
      "       [3704.988 ],\n",
      "       [3704.9925],\n",
      "       [3704.997 ]]), 'name': 'Sub6-1__result.mat'}\n",
      "----------------------------------------------------------------------------------------------------\n",
      "18\n",
      "Sub7-1__result.mat\n",
      "{'__header__': b'MATLAB 5.0 MAT-file, Platform: PCWIN64, Created on: Sun Jun  2 22:38:09 2024', '__version__': '1.0', '__globals__': [], 'KSS': array([[4.54545455e-03, 4.00000000e+00],\n",
      "       [8.31922727e+02, 3.00000000e+00],\n",
      "       [1.66124545e+03, 5.00000000e+00],\n",
      "       [2.48497727e+03, 4.00000000e+00],\n",
      "       [3.30770909e+03, 5.00000000e+00]]), 'NBM_TABR': array([[       nan],\n",
      "       [       nan],\n",
      "       [       nan],\n",
      "       ...,\n",
      "       [5.87465564],\n",
      "       [5.87490932],\n",
      "       [5.87516296]]), 'ts_NBM_Sim': array([[ 110.   ],\n",
      "       [ 110.004],\n",
      "       [ 110.008],\n",
      "       ...,\n",
      "       [3712.992],\n",
      "       [3712.996],\n",
      "       [3713.   ]]), 'name': 'Sub7-1__result.mat'}\n",
      "----------------------------------------------------------------------------------------------------\n",
      "19\n",
      "Sub8-1__result.mat\n",
      "{'__header__': b'MATLAB 5.0 MAT-file, Platform: PCWIN64, Created on: Sun Jun  2 22:38:37 2024', '__version__': '1.0', '__globals__': [], 'KSS': array([[1.45454545e-01, 4.00000000e+00],\n",
      "       [9.85331818e+02, 5.00000000e+00],\n",
      "       [1.95447273e+03, 5.00000000e+00],\n",
      "       [2.91727273e+03, 6.00000000e+00],\n",
      "       [3.86627727e+03, 6.00000000e+00]]), 'NBM_TABR': array([[        nan],\n",
      "       [        nan],\n",
      "       [        nan],\n",
      "       ...,\n",
      "       [-2.64150836],\n",
      "       [-2.64127259],\n",
      "       [-2.64103644]]), 'ts_NBM_Sim': array([[ 250.    ],\n",
      "       [ 250.0045],\n",
      "       [ 250.009 ],\n",
      "       ...,\n",
      "       [4740.991 ],\n",
      "       [4740.9955],\n",
      "       [4741.    ]]), 'name': 'Sub8-1__result.mat'}\n",
      "----------------------------------------------------------------------------------------------------\n",
      "20\n",
      "Sub8-2__result.mat\n",
      "{'__header__': b'MATLAB 5.0 MAT-file, Platform: PCWIN64, Created on: Sun Jun  2 22:39:39 2024', '__version__': '1.0', '__globals__': [], 'KSS': array([[3.89545455e+00, 5.00000000e+00],\n",
      "       [1.03090000e+03, 6.00000000e+00],\n",
      "       [2.01654091e+03, 7.00000000e+00],\n",
      "       [2.97777273e+03, 6.00000000e+00],\n",
      "       [3.91927727e+03, 7.00000000e+00],\n",
      "       [4.84053182e+03, 8.00000000e+00]]), 'NBM_TABR': array([[       nan],\n",
      "       [       nan],\n",
      "       [       nan],\n",
      "       ...,\n",
      "       [2.09905757],\n",
      "       [2.09945123],\n",
      "       [2.0998437 ]]), 'ts_NBM_Sim': array([[ 120.    ],\n",
      "       [ 120.0045],\n",
      "       [ 120.009 ],\n",
      "       ...,\n",
      "       [4994.9895],\n",
      "       [4994.994 ],\n",
      "       [4994.9985]]), 'name': 'Sub8-2__result.mat'}\n",
      "----------------------------------------------------------------------------------------------------\n",
      "21\n",
      "Sub9-1__result.mat\n",
      "{'__header__': b'MATLAB 5.0 MAT-file, Platform: PCWIN64, Created on: Sun Jun  2 22:40:07 2024', '__version__': '1.0', '__globals__': [], 'KSS': array([[2.84545455e+00, 2.00000000e+00],\n",
      "       [1.03619545e+03, 3.00000000e+00],\n",
      "       [2.05176818e+03, 3.00000000e+00],\n",
      "       [3.07829545e+03, 3.00000000e+00],\n",
      "       [4.10593636e+03, 3.00000000e+00]]), 'NBM_TABR': array([[        nan],\n",
      "       [        nan],\n",
      "       [        nan],\n",
      "       ...,\n",
      "       [-9.83390896],\n",
      "       [-9.83374966],\n",
      "       [-9.83359047]]), 'ts_NBM_Sim': array([[ 110.   ],\n",
      "       [ 110.004],\n",
      "       [ 110.008],\n",
      "       ...,\n",
      "       [4757.992],\n",
      "       [4757.996],\n",
      "       [4758.   ]]), 'name': 'Sub9-1__result.mat'}\n",
      "----------------------------------------------------------------------------------------------------\n",
      "22\n",
      "Sub9-2__result.mat\n",
      "{'__header__': b'MATLAB 5.0 MAT-file, Platform: PCWIN64, Created on: Sun Jun  2 22:40:26 2024', '__version__': '1.0', '__globals__': [], 'KSS': array([[3.00909091e+00, 4.00000000e+00],\n",
      "       [1.04585455e+03, 5.00000000e+00],\n",
      "       [2.04062727e+03, 6.00000000e+00],\n",
      "       [3.01900909e+03, 6.00000000e+00],\n",
      "       [3.97400455e+03, 6.00000000e+00]]), 'NBM_TABR': array([[       nan],\n",
      "       [       nan],\n",
      "       [       nan],\n",
      "       ...,\n",
      "       [4.47939691],\n",
      "       [4.4799473 ],\n",
      "       [4.48049723]]), 'ts_NBM_Sim': array([[ 110.   ],\n",
      "       [ 110.004],\n",
      "       [ 110.008],\n",
      "       ...,\n",
      "       [4139.992],\n",
      "       [4139.996],\n",
      "       [4140.   ]]), 'name': 'Sub9-2__result.mat'}\n"
     ]
    }
   ],
   "source": [
    "data = get_data(files)"
   ]
  },
  {
   "cell_type": "code",
   "execution_count": 5,
   "id": "437004cb",
   "metadata": {},
   "outputs": [
    {
     "data": {
      "text/plain": [
       "23"
      ]
     },
     "execution_count": 5,
     "metadata": {},
     "output_type": "execute_result"
    }
   ],
   "source": [
    "len(data)"
   ]
  },
  {
   "cell_type": "code",
   "execution_count": 6,
   "id": "74f5ddaa",
   "metadata": {},
   "outputs": [
    {
     "data": {
      "text/plain": [
       "array([[1.00000000e+01, 3.00000000e+00],\n",
       "       [9.45710204e+02, 6.00000000e+00],\n",
       "       [1.82272653e+03, 6.00000000e+00],\n",
       "       [2.70885306e+03, 6.00000000e+00],\n",
       "       [3.61122449e+03, 9.00000000e+00]])"
      ]
     },
     "execution_count": 6,
     "metadata": {},
     "output_type": "execute_result"
    }
   ],
   "source": [
    "data[0]['KSS']"
   ]
  },
  {
   "cell_type": "code",
   "execution_count": 7,
   "id": "ec5fcd6c",
   "metadata": {},
   "outputs": [
    {
     "data": {
      "text/plain": [
       "array([[1.00000000e+01, 3.00000000e+00],\n",
       "       [9.45710204e+02, 6.00000000e+00],\n",
       "       [1.82272653e+03, 6.00000000e+00],\n",
       "       [2.70885306e+03, 6.00000000e+00],\n",
       "       [3.61122449e+03, 9.00000000e+00]])"
      ]
     },
     "execution_count": 7,
     "metadata": {},
     "output_type": "execute_result"
    }
   ],
   "source": [
    "data[0]['KSS']"
   ]
  },
  {
   "cell_type": "code",
   "execution_count": 8,
   "id": "e260a2c3",
   "metadata": {},
   "outputs": [
    {
     "data": {
      "text/plain": [
       "['__header__',\n",
       " '__version__',\n",
       " '__globals__',\n",
       " 'KSS',\n",
       " 'NBM_TABR',\n",
       " 'ts_NBM_Sim',\n",
       " 'name']"
      ]
     },
     "execution_count": 8,
     "metadata": {},
     "output_type": "execute_result"
    }
   ],
   "source": [
    "columns = list(data[0].keys())\n",
    "columns"
   ]
  },
  {
   "cell_type": "code",
   "execution_count": 9,
   "id": "4d4e4096",
   "metadata": {},
   "outputs": [
    {
     "data": {
      "image/png": "[encoded data removed]",
      "text/plain": [
       "<Figure size 640x480 with 1 Axes>"
      ]
     },
     "metadata": {},
     "output_type": "display_data"
    }
   ],
   "source": [
    "plt.plot(data[0]['ts_NBM_Sim'],data[0]['NBM_TABR'])\n",
    "plt.scatter(data[0]['KSS'][1:,0],data[0]['KSS'][1:,1])\n",
    "plt.show()"
   ]
  },
  {
   "cell_type": "code",
   "execution_count": 10,
   "id": "8e73f8b3",
   "metadata": {},
   "outputs": [
    {
     "data": {
      "text/plain": [
       "(1007001, 1)"
      ]
     },
     "execution_count": 10,
     "metadata": {},
     "output_type": "execute_result"
    }
   ],
   "source": [
    "data[0]['NBM_TABR'].shape"
   ]
  },
  {
   "cell_type": "code",
   "execution_count": 19,
   "id": "e726371e",
   "metadata": {},
   "outputs": [
    {
     "data": {
      "text/plain": [
       "(1007001, 1)"
      ]
     },
     "execution_count": 19,
     "metadata": {},
     "output_type": "execute_result"
    }
   ],
   "source": [
    "data[0]['ts_NBM_Sim'].shape"
   ]
  },
  {
   "cell_type": "code",
   "execution_count": 299,
   "id": "b48381f1",
   "metadata": {},
   "outputs": [
    {
     "name": "stderr",
     "output_type": "stream",
     "text": [
      "C:\\Users\\brian\\Anaconda3\\Lib\\site-packages\\scipy\\signal\\_spectral_py.py:2004: RuntimeWarning: invalid value encountered in multiply\n",
      "  result = win * result\n"
     ]
    }
   ],
   "source": [
    "\n",
    "window = 50000\n",
    "skip = 5000\n",
    "dataset = 0\n",
    "\n",
    "num = data[dataset]['NBM_TABR'][~np.isnan(data[dataset]['NBM_TABR'])].shape[0]\n",
    "\n",
    "x = []\n",
    "y_welch = []\n",
    "y_mean = []\n",
    "y_std = []\n",
    "for i in range(0,num-window,skip):\n",
    "    x.append(data[dataset]['ts_NBM_Sim'][~np.isnan(data[dataset]['NBM_TABR'])][int(i+window/2)])\n",
    "    test = data[dataset]['NBM_TABR'][~np.isnan(data[dataset]['NBM_TABR'])][i:(i+window)]\n",
    "    _ , S_test = welch(test, fs=250)\n",
    "    y_welch.append(S_test[1])\n",
    "    S_test = np.mean(test)\n",
    "    y_mean.append(S_test)\n",
    "    S_test = np.std(test)\n",
    "    y_std.append(S_test)"
   ]
  },
  {
   "cell_type": "code",
   "execution_count": 300,
   "id": "eb5dea4f",
   "metadata": {},
   "outputs": [
    {
     "data": {
      "image/png": "[encoded data removed]",
      "text/plain": [
       "<Figure size 640x480 with 2 Axes>"
      ]
     },
     "metadata": {},
     "output_type": "display_data"
    }
   ],
   "source": [
    "norm = np.mean(x)\n",
    "fig, ax1 = plt.subplots()\n",
    "ax2 = ax1.twinx()\n",
    "ax1.scatter(data[dataset]['KSS'][1:,0],data[dataset]['KSS'][1:,1])\n",
    "ax1.set_ylim(0,10)\n",
    "ax2.plot(x[:-20],y_welch[:-20],alpha=0.5)\n",
    "plt.show()"
   ]
  },
  {
   "cell_type": "code",
   "execution_count": 304,
   "id": "f7b6603b",
   "metadata": {},
   "outputs": [
    {
     "data": {
      "image/png": "[encoded data removed]",
      "text/plain": [
       "<Figure size 640x480 with 2 Axes>"
      ]
     },
     "metadata": {},
     "output_type": "display_data"
    }
   ],
   "source": [
    "fig, ax1 = plt.subplots()\n",
    "ax2 = ax1.twinx()\n",
    "ax1.scatter(data[dataset]['KSS'][1:,0],data[dataset]['KSS'][1:,1])\n",
    "ax1.set_ylim(0,10)\n",
    "ax2.plot(x[:-20],np.array(y_mean[:-20])*-1,alpha=0.5)\n",
    "plt.show()"
   ]
  },
  {
   "cell_type": "code",
   "execution_count": 302,
   "id": "fff5ba26",
   "metadata": {},
   "outputs": [
    {
     "data": {
      "image/png": "[encoded data removed]",
      "text/plain": [
       "<Figure size 640x480 with 2 Axes>"
      ]
     },
     "metadata": {},
     "output_type": "display_data"
    }
   ],
   "source": [
    "norm = np.mean(x)\n",
    "fig, ax1 = plt.subplots()\n",
    "ax2 = ax1.twinx()\n",
    "ax1.scatter(data[dataset]['KSS'][1:,0],data[dataset]['KSS'][1:,1])\n",
    "ax1.set_ylim(0,10)\n",
    "ax2.plot(x[:-20],y_std[:-20],alpha=0.5)\n",
    "plt.show()"
   ]
  },
  {
   "cell_type": "code",
   "execution_count": 447,
   "id": "db5acc43",
   "metadata": {},
   "outputs": [
    {
     "data": {
      "text/plain": [
       "5"
      ]
     },
     "execution_count": 447,
     "metadata": {},
     "output_type": "execute_result"
    }
   ],
   "source": [
    "len(data[0]['KSS'])"
   ]
  },
  {
   "cell_type": "code",
   "execution_count": 491,
   "id": "eb3547bd",
   "metadata": {},
   "outputs": [
    {
     "data": {
      "text/plain": [
       "23"
      ]
     },
     "execution_count": 491,
     "metadata": {},
     "output_type": "execute_result"
    }
   ],
   "source": [
    "len(data)"
   ]
  },
  {
   "cell_type": "code",
   "execution_count": 620,
   "id": "3ac84968",
   "metadata": {},
   "outputs": [],
   "source": [
    "def basic_plot(data):\n",
    "    fig, ax1 = plt.subplots()\n",
    "    ax2 = ax1.twinx()\n",
    "    ax1.plot(data['ts_NBM_Sim'][~np.isnan(data['NBM_TABR'])],data['NBM_TABR'][~np.isnan(data['NBM_TABR'])])\n",
    "    top = np.max(data['NBM_TABR'][~np.isnan(data['NBM_TABR'])])\n",
    "    if np.isnan(top):\n",
    "        top = 10\n",
    "    elif np.isinf(top):\n",
    "        top = 10\n",
    "    else:\n",
    "        pass\n",
    "\n",
    "    bottom = np.min(data['NBM_TABR'][~np.isnan(data['NBM_TABR'])])\n",
    "    if np.isnan(bottom):\n",
    "        bottom = -10\n",
    "    elif np.isinf(bottom):\n",
    "        bottom = -10\n",
    "    else:\n",
    "        pass\n",
    "    ax1.set_ylim(top,bottom)\n",
    "    ax2.scatter(data['KSS'][1:,0],data['KSS'][1:,1])\n",
    "    ax2.set_ylim(0,10)\n",
    "    plt.show()"
   ]
  },
  {
   "cell_type": "code",
   "execution_count": 659,
   "id": "b6762fee",
   "metadata": {},
   "outputs": [
    {
     "data": {
      "text/plain": [
       "array([[1.00000000e+01, 3.00000000e+00],\n",
       "       [9.45710204e+02, 6.00000000e+00],\n",
       "       [1.82272653e+03, 6.00000000e+00],\n",
       "       [2.70885306e+03, 6.00000000e+00],\n",
       "       [3.61122449e+03, 9.00000000e+00]])"
      ]
     },
     "execution_count": 659,
     "metadata": {},
     "output_type": "execute_result"
    }
   ],
   "source": [
    "data[0]['KSS']"
   ]
  },
  {
   "cell_type": "code",
   "execution_count": 679,
   "id": "249d0ba2",
   "metadata": {},
   "outputs": [
    {
     "data": {
      "image/png": "[encoded data removed]",
      "text/plain": [
       "<Figure size 640x480 with 2 Axes>"
      ]
     },
     "metadata": {},
     "output_type": "display_data"
    }
   ],
   "source": [
    "basic_plot(data[3])"
   ]
  },
  {
   "cell_type": "code",
   "execution_count": 622,
   "id": "bf8875f3",
   "metadata": {},
   "outputs": [
    {
     "data": {
      "image/png": "[encoded data removed]",
      "text/plain": [
       "<Figure size 640x480 with 2 Axes>"
      ]
     },
     "metadata": {},
     "output_type": "display_data"
    }
   ],
   "source": [
    "basic_plot(data[1])"
   ]
  },
  {
   "cell_type": "code",
   "execution_count": 623,
   "id": "98a3e091",
   "metadata": {
    "scrolled": false
   },
   "outputs": [
    {
     "data": {
      "image/png": "[encoded data removed]",
      "text/plain": [
       "<Figure size 640x480 with 2 Axes>"
      ]
     },
     "metadata": {},
     "output_type": "display_data"
    }
   ],
   "source": [
    "basic_plot(data[2])"
   ]
  },
  {
   "cell_type": "code",
   "execution_count": 24,
   "id": "9fb1e174",
   "metadata": {},
   "outputs": [
    {
     "data": {
      "text/plain": [
       "['__header__',\n",
       " '__version__',\n",
       " '__globals__',\n",
       " 'KSS',\n",
       " 'NBM_TABR',\n",
       " 'ts_NBM_Sim',\n",
       " 'name']"
      ]
     },
     "execution_count": 24,
     "metadata": {},
     "output_type": "execute_result"
    }
   ],
   "source": [
    "columns"
   ]
  },
  {
   "cell_type": "code",
   "execution_count": 25,
   "id": "6ac0730a",
   "metadata": {},
   "outputs": [
    {
     "data": {
      "text/plain": [
       "array([[ 945.71020408,    6.        ],\n",
       "       [1822.72653061,    6.        ],\n",
       "       [2708.85306122,    6.        ],\n",
       "       [3611.2244898 ,    9.        ]])"
      ]
     },
     "execution_count": 25,
     "metadata": {},
     "output_type": "execute_result"
    }
   ],
   "source": [
    "data[0]['KSS'][1:]"
   ]
  },
  {
   "cell_type": "code",
   "execution_count": 26,
   "id": "e97f2e11",
   "metadata": {},
   "outputs": [
    {
     "data": {
      "text/plain": [
       "(975627,)"
      ]
     },
     "execution_count": 26,
     "metadata": {},
     "output_type": "execute_result"
    }
   ],
   "source": [
    "data[0]['NBM_TABR'][~np.isnan(data[0]['NBM_TABR'])].shape"
   ]
  },
  {
   "cell_type": "code",
   "execution_count": 27,
   "id": "d63ebaf3",
   "metadata": {},
   "outputs": [
    {
     "data": {
      "text/plain": [
       "(5, 2)"
      ]
     },
     "execution_count": 27,
     "metadata": {},
     "output_type": "execute_result"
    }
   ],
   "source": [
    "data[0]['KSS'].shape"
   ]
  },
  {
   "cell_type": "code",
   "execution_count": 28,
   "id": "e82562f6",
   "metadata": {},
   "outputs": [
    {
     "data": {
      "text/plain": [
       "array([  10.        ,  945.71020408, 1822.72653061, 2708.85306122,\n",
       "       3611.2244898 ])"
      ]
     },
     "execution_count": 28,
     "metadata": {},
     "output_type": "execute_result"
    }
   ],
   "source": [
    "data[0]['KSS'][:,0]"
   ]
  },
  {
   "cell_type": "code",
   "execution_count": 29,
   "id": "bca7eba1",
   "metadata": {},
   "outputs": [
    {
     "data": {
      "text/plain": [
       "(1447001, 1)"
      ]
     },
     "execution_count": 29,
     "metadata": {},
     "output_type": "execute_result"
    }
   ],
   "source": [
    "data[1]['NBM_TABR'].shape"
   ]
  },
  {
   "cell_type": "code",
   "execution_count": 357,
   "id": "c79a83d3",
   "metadata": {},
   "outputs": [
    {
     "name": "stdout",
     "output_type": "stream",
     "text": [
      "Using data from preloaded Raw for 5 events and 513 original time points ...\n",
      "0 bad epochs dropped\n",
      "Using data from preloaded Raw for 5 events and 513 original time points ...\n"
     ]
    },
    {
     "data": {
      "image/png": "[encoded data removed]",
      "text/plain": [
       "<MNEBrowseFigure size 800x800 with 4 Axes>"
      ]
     },
     "metadata": {},
     "output_type": "display_data"
    },
    {
     "data": {
      "image/png": "[encoded data removed]",
      "text/plain": [
       "<MNEBrowseFigure size 800x800 with 4 Axes>"
      ]
     },
     "execution_count": 357,
     "metadata": {},
     "output_type": "execute_result"
    }
   ],
   "source": [
    "chnames = ['NBM']\n",
    "chtypes = ['eeg']\n",
    "subj_num = 8\n",
    "\n",
    "X = data[subj_num]['NBM_TABR'][~np.isnan(data[subj_num]['NBM_TABR'])]\n",
    "X = X.reshape(1,X.shape[0])\n",
    "info = mne.create_info(ch_names=chnames, sfreq=512,\n",
    "                       ch_types=chtypes,\n",
    "                       verbose=False)\n",
    "raw = mne.io.RawArray(data=X, info=info, verbose=False)\n",
    "\n",
    "# detect the events and cut the signal into epochs\n",
    "event_id = {str(x):x for x in data[subj_num]['KSS'][:,1].astype('int64')}\n",
    "newones = np.array([[0]*len(data[subj_num]['KSS'])])\n",
    "events = np.vstack([data[subj_num]['KSS'][:,0],\n",
    "                    newones.ravel(),data[subj_num]['KSS'][:,1]]).T.reshape(len(data[subj_num]['KSS']),3).astype('int64')\n",
    "epochs = mne.Epochs(raw, events, event_id, tmin=1, tmax=2, baseline=None,\n",
    "                    verbose=False)\n",
    "del raw\n",
    "\n",
    "epochs.plot(n_epochs=10, events=True)"
   ]
  },
  {
   "cell_type": "code",
   "execution_count": 366,
   "id": "79ba654b",
   "metadata": {},
   "outputs": [
    {
     "data": {
      "text/plain": [
       "array([3, 5, 6, 7], dtype=int64)"
      ]
     },
     "execution_count": 366,
     "metadata": {},
     "output_type": "execute_result"
    }
   ],
   "source": [
    "np.unique(events[:, -1])"
   ]
  },
  {
   "cell_type": "code",
   "execution_count": 367,
   "id": "9998acf9",
   "metadata": {},
   "outputs": [
    {
     "data": {
      "text/plain": [
       "(5, 1, 513)"
      ]
     },
     "execution_count": 367,
     "metadata": {},
     "output_type": "execute_result"
    }
   ],
   "source": [
    "X.shape"
   ]
  },
  {
   "cell_type": "code",
   "execution_count": 364,
   "id": "d48f233e",
   "metadata": {},
   "outputs": [
    {
     "name": "stdout",
     "output_type": "stream",
     "text": [
      "Using data from preloaded Raw for 5 events and 513 original time points ...\n",
      "shape of X:  (5, 1, 513)\n",
      "shape of y:  5\n",
      "[3 6 6 7 5]\n"
     ]
    },
    {
     "ename": "ValueError",
     "evalue": "n_splits=3 cannot be greater than the number of members in each class.",
     "output_type": "error",
     "traceback": [
      "\u001b[1;31m---------------------------------------------------------------------------\u001b[0m",
      "\u001b[1;31mValueError\u001b[0m                                Traceback (most recent call last)",
      "Cell \u001b[1;32mIn[364], line 12\u001b[0m\n\u001b[0;32m     10\u001b[0m skf \u001b[38;5;241m=\u001b[39m StratifiedKFold(n_splits\u001b[38;5;241m=\u001b[39mnum\u001b[38;5;241m-\u001b[39m\u001b[38;5;241m1\u001b[39m)\n\u001b[0;32m     11\u001b[0m clf \u001b[38;5;241m=\u001b[39m make_pipeline(Covariances(estimator\u001b[38;5;241m=\u001b[39m\u001b[38;5;124m'\u001b[39m\u001b[38;5;124mlwf\u001b[39m\u001b[38;5;124m'\u001b[39m), MDM())\n\u001b[1;32m---> 12\u001b[0m scr \u001b[38;5;241m=\u001b[39m cross_val_score(clf, X, y, cv\u001b[38;5;241m=\u001b[39mnum\u001b[38;5;241m-\u001b[39m\u001b[38;5;241m1\u001b[39m)\n\u001b[0;32m     14\u001b[0m \u001b[38;5;66;03m# print results of classification\u001b[39;00m\n\u001b[0;32m     15\u001b[0m \u001b[38;5;28mprint\u001b[39m(\u001b[38;5;124m'\u001b[39m\u001b[38;5;124msubject\u001b[39m\u001b[38;5;124m'\u001b[39m, files[subj_num])\n",
      "File \u001b[1;32m~\\Anaconda3\\Lib\\site-packages\\sklearn\\utils\\_param_validation.py:213\u001b[0m, in \u001b[0;36mvalidate_params.<locals>.decorator.<locals>.wrapper\u001b[1;34m(*args, **kwargs)\u001b[0m\n\u001b[0;32m    207\u001b[0m \u001b[38;5;28;01mtry\u001b[39;00m:\n\u001b[0;32m    208\u001b[0m     \u001b[38;5;28;01mwith\u001b[39;00m config_context(\n\u001b[0;32m    209\u001b[0m         skip_parameter_validation\u001b[38;5;241m=\u001b[39m(\n\u001b[0;32m    210\u001b[0m             prefer_skip_nested_validation \u001b[38;5;129;01mor\u001b[39;00m global_skip_validation\n\u001b[0;32m    211\u001b[0m         )\n\u001b[0;32m    212\u001b[0m     ):\n\u001b[1;32m--> 213\u001b[0m         \u001b[38;5;28;01mreturn\u001b[39;00m func(\u001b[38;5;241m*\u001b[39margs, \u001b[38;5;241m*\u001b[39m\u001b[38;5;241m*\u001b[39mkwargs)\n\u001b[0;32m    214\u001b[0m \u001b[38;5;28;01mexcept\u001b[39;00m InvalidParameterError \u001b[38;5;28;01mas\u001b[39;00m e:\n\u001b[0;32m    215\u001b[0m     \u001b[38;5;66;03m# When the function is just a wrapper around an estimator, we allow\u001b[39;00m\n\u001b[0;32m    216\u001b[0m     \u001b[38;5;66;03m# the function to delegate validation to the estimator, but we replace\u001b[39;00m\n\u001b[0;32m    217\u001b[0m     \u001b[38;5;66;03m# the name of the estimator by the name of the function in the error\u001b[39;00m\n\u001b[0;32m    218\u001b[0m     \u001b[38;5;66;03m# message to avoid confusion.\u001b[39;00m\n\u001b[0;32m    219\u001b[0m     msg \u001b[38;5;241m=\u001b[39m re\u001b[38;5;241m.\u001b[39msub(\n\u001b[0;32m    220\u001b[0m         \u001b[38;5;124mr\u001b[39m\u001b[38;5;124m\"\u001b[39m\u001b[38;5;124mparameter of \u001b[39m\u001b[38;5;124m\\\u001b[39m\u001b[38;5;124mw+ must be\u001b[39m\u001b[38;5;124m\"\u001b[39m,\n\u001b[0;32m    221\u001b[0m         \u001b[38;5;124mf\u001b[39m\u001b[38;5;124m\"\u001b[39m\u001b[38;5;124mparameter of \u001b[39m\u001b[38;5;132;01m{\u001b[39;00mfunc\u001b[38;5;241m.\u001b[39m\u001b[38;5;18m__qualname__\u001b[39m\u001b[38;5;132;01m}\u001b[39;00m\u001b[38;5;124m must be\u001b[39m\u001b[38;5;124m\"\u001b[39m,\n\u001b[0;32m    222\u001b[0m         \u001b[38;5;28mstr\u001b[39m(e),\n\u001b[0;32m    223\u001b[0m     )\n",
      "File \u001b[1;32m~\\Anaconda3\\Lib\\site-packages\\sklearn\\model_selection\\_validation.py:719\u001b[0m, in \u001b[0;36mcross_val_score\u001b[1;34m(estimator, X, y, groups, scoring, cv, n_jobs, verbose, fit_params, params, pre_dispatch, error_score)\u001b[0m\n\u001b[0;32m    716\u001b[0m \u001b[38;5;66;03m# To ensure multimetric format is not supported\u001b[39;00m\n\u001b[0;32m    717\u001b[0m scorer \u001b[38;5;241m=\u001b[39m check_scoring(estimator, scoring\u001b[38;5;241m=\u001b[39mscoring)\n\u001b[1;32m--> 719\u001b[0m cv_results \u001b[38;5;241m=\u001b[39m cross_validate(\n\u001b[0;32m    720\u001b[0m     estimator\u001b[38;5;241m=\u001b[39mestimator,\n\u001b[0;32m    721\u001b[0m     X\u001b[38;5;241m=\u001b[39mX,\n\u001b[0;32m    722\u001b[0m     y\u001b[38;5;241m=\u001b[39my,\n\u001b[0;32m    723\u001b[0m     groups\u001b[38;5;241m=\u001b[39mgroups,\n\u001b[0;32m    724\u001b[0m     scoring\u001b[38;5;241m=\u001b[39m{\u001b[38;5;124m\"\u001b[39m\u001b[38;5;124mscore\u001b[39m\u001b[38;5;124m\"\u001b[39m: scorer},\n\u001b[0;32m    725\u001b[0m     cv\u001b[38;5;241m=\u001b[39mcv,\n\u001b[0;32m    726\u001b[0m     n_jobs\u001b[38;5;241m=\u001b[39mn_jobs,\n\u001b[0;32m    727\u001b[0m     verbose\u001b[38;5;241m=\u001b[39mverbose,\n\u001b[0;32m    728\u001b[0m     fit_params\u001b[38;5;241m=\u001b[39mfit_params,\n\u001b[0;32m    729\u001b[0m     params\u001b[38;5;241m=\u001b[39mparams,\n\u001b[0;32m    730\u001b[0m     pre_dispatch\u001b[38;5;241m=\u001b[39mpre_dispatch,\n\u001b[0;32m    731\u001b[0m     error_score\u001b[38;5;241m=\u001b[39merror_score,\n\u001b[0;32m    732\u001b[0m )\n\u001b[0;32m    733\u001b[0m \u001b[38;5;28;01mreturn\u001b[39;00m cv_results[\u001b[38;5;124m\"\u001b[39m\u001b[38;5;124mtest_score\u001b[39m\u001b[38;5;124m\"\u001b[39m]\n",
      "File \u001b[1;32m~\\Anaconda3\\Lib\\site-packages\\sklearn\\utils\\_param_validation.py:213\u001b[0m, in \u001b[0;36mvalidate_params.<locals>.decorator.<locals>.wrapper\u001b[1;34m(*args, **kwargs)\u001b[0m\n\u001b[0;32m    207\u001b[0m \u001b[38;5;28;01mtry\u001b[39;00m:\n\u001b[0;32m    208\u001b[0m     \u001b[38;5;28;01mwith\u001b[39;00m config_context(\n\u001b[0;32m    209\u001b[0m         skip_parameter_validation\u001b[38;5;241m=\u001b[39m(\n\u001b[0;32m    210\u001b[0m             prefer_skip_nested_validation \u001b[38;5;129;01mor\u001b[39;00m global_skip_validation\n\u001b[0;32m    211\u001b[0m         )\n\u001b[0;32m    212\u001b[0m     ):\n\u001b[1;32m--> 213\u001b[0m         \u001b[38;5;28;01mreturn\u001b[39;00m func(\u001b[38;5;241m*\u001b[39margs, \u001b[38;5;241m*\u001b[39m\u001b[38;5;241m*\u001b[39mkwargs)\n\u001b[0;32m    214\u001b[0m \u001b[38;5;28;01mexcept\u001b[39;00m InvalidParameterError \u001b[38;5;28;01mas\u001b[39;00m e:\n\u001b[0;32m    215\u001b[0m     \u001b[38;5;66;03m# When the function is just a wrapper around an estimator, we allow\u001b[39;00m\n\u001b[0;32m    216\u001b[0m     \u001b[38;5;66;03m# the function to delegate validation to the estimator, but we replace\u001b[39;00m\n\u001b[0;32m    217\u001b[0m     \u001b[38;5;66;03m# the name of the estimator by the name of the function in the error\u001b[39;00m\n\u001b[0;32m    218\u001b[0m     \u001b[38;5;66;03m# message to avoid confusion.\u001b[39;00m\n\u001b[0;32m    219\u001b[0m     msg \u001b[38;5;241m=\u001b[39m re\u001b[38;5;241m.\u001b[39msub(\n\u001b[0;32m    220\u001b[0m         \u001b[38;5;124mr\u001b[39m\u001b[38;5;124m\"\u001b[39m\u001b[38;5;124mparameter of \u001b[39m\u001b[38;5;124m\\\u001b[39m\u001b[38;5;124mw+ must be\u001b[39m\u001b[38;5;124m\"\u001b[39m,\n\u001b[0;32m    221\u001b[0m         \u001b[38;5;124mf\u001b[39m\u001b[38;5;124m\"\u001b[39m\u001b[38;5;124mparameter of \u001b[39m\u001b[38;5;132;01m{\u001b[39;00mfunc\u001b[38;5;241m.\u001b[39m\u001b[38;5;18m__qualname__\u001b[39m\u001b[38;5;132;01m}\u001b[39;00m\u001b[38;5;124m must be\u001b[39m\u001b[38;5;124m\"\u001b[39m,\n\u001b[0;32m    222\u001b[0m         \u001b[38;5;28mstr\u001b[39m(e),\n\u001b[0;32m    223\u001b[0m     )\n",
      "File \u001b[1;32m~\\Anaconda3\\Lib\\site-packages\\sklearn\\model_selection\\_validation.py:430\u001b[0m, in \u001b[0;36mcross_validate\u001b[1;34m(estimator, X, y, groups, scoring, cv, n_jobs, verbose, fit_params, params, pre_dispatch, return_train_score, return_estimator, return_indices, error_score)\u001b[0m\n\u001b[0;32m    427\u001b[0m \u001b[38;5;66;03m# We clone the estimator to make sure that all the folds are\u001b[39;00m\n\u001b[0;32m    428\u001b[0m \u001b[38;5;66;03m# independent, and that it is pickle-able.\u001b[39;00m\n\u001b[0;32m    429\u001b[0m parallel \u001b[38;5;241m=\u001b[39m Parallel(n_jobs\u001b[38;5;241m=\u001b[39mn_jobs, verbose\u001b[38;5;241m=\u001b[39mverbose, pre_dispatch\u001b[38;5;241m=\u001b[39mpre_dispatch)\n\u001b[1;32m--> 430\u001b[0m results \u001b[38;5;241m=\u001b[39m parallel(\n\u001b[0;32m    431\u001b[0m     delayed(_fit_and_score)(\n\u001b[0;32m    432\u001b[0m         clone(estimator),\n\u001b[0;32m    433\u001b[0m         X,\n\u001b[0;32m    434\u001b[0m         y,\n\u001b[0;32m    435\u001b[0m         scorer\u001b[38;5;241m=\u001b[39mscorers,\n\u001b[0;32m    436\u001b[0m         train\u001b[38;5;241m=\u001b[39mtrain,\n\u001b[0;32m    437\u001b[0m         test\u001b[38;5;241m=\u001b[39mtest,\n\u001b[0;32m    438\u001b[0m         verbose\u001b[38;5;241m=\u001b[39mverbose,\n\u001b[0;32m    439\u001b[0m         parameters\u001b[38;5;241m=\u001b[39m\u001b[38;5;28;01mNone\u001b[39;00m,\n\u001b[0;32m    440\u001b[0m         fit_params\u001b[38;5;241m=\u001b[39mrouted_params\u001b[38;5;241m.\u001b[39mestimator\u001b[38;5;241m.\u001b[39mfit,\n\u001b[0;32m    441\u001b[0m         score_params\u001b[38;5;241m=\u001b[39mrouted_params\u001b[38;5;241m.\u001b[39mscorer\u001b[38;5;241m.\u001b[39mscore,\n\u001b[0;32m    442\u001b[0m         return_train_score\u001b[38;5;241m=\u001b[39mreturn_train_score,\n\u001b[0;32m    443\u001b[0m         return_times\u001b[38;5;241m=\u001b[39m\u001b[38;5;28;01mTrue\u001b[39;00m,\n\u001b[0;32m    444\u001b[0m         return_estimator\u001b[38;5;241m=\u001b[39mreturn_estimator,\n\u001b[0;32m    445\u001b[0m         error_score\u001b[38;5;241m=\u001b[39merror_score,\n\u001b[0;32m    446\u001b[0m     )\n\u001b[0;32m    447\u001b[0m     \u001b[38;5;28;01mfor\u001b[39;00m train, test \u001b[38;5;129;01min\u001b[39;00m indices\n\u001b[0;32m    448\u001b[0m )\n\u001b[0;32m    450\u001b[0m _warn_or_raise_about_fit_failures(results, error_score)\n\u001b[0;32m    452\u001b[0m \u001b[38;5;66;03m# For callable scoring, the return type is only know after calling. If the\u001b[39;00m\n\u001b[0;32m    453\u001b[0m \u001b[38;5;66;03m# return type is a dictionary, the error scores can now be inserted with\u001b[39;00m\n\u001b[0;32m    454\u001b[0m \u001b[38;5;66;03m# the correct key.\u001b[39;00m\n",
      "File \u001b[1;32m~\\Anaconda3\\Lib\\site-packages\\sklearn\\utils\\parallel.py:67\u001b[0m, in \u001b[0;36mParallel.__call__\u001b[1;34m(self, iterable)\u001b[0m\n\u001b[0;32m     62\u001b[0m config \u001b[38;5;241m=\u001b[39m get_config()\n\u001b[0;32m     63\u001b[0m iterable_with_config \u001b[38;5;241m=\u001b[39m (\n\u001b[0;32m     64\u001b[0m     (_with_config(delayed_func, config), args, kwargs)\n\u001b[0;32m     65\u001b[0m     \u001b[38;5;28;01mfor\u001b[39;00m delayed_func, args, kwargs \u001b[38;5;129;01min\u001b[39;00m iterable\n\u001b[0;32m     66\u001b[0m )\n\u001b[1;32m---> 67\u001b[0m \u001b[38;5;28;01mreturn\u001b[39;00m \u001b[38;5;28msuper\u001b[39m()\u001b[38;5;241m.\u001b[39m\u001b[38;5;21m__call__\u001b[39m(iterable_with_config)\n",
      "File \u001b[1;32m~\\Anaconda3\\Lib\\site-packages\\joblib\\parallel.py:1918\u001b[0m, in \u001b[0;36mParallel.__call__\u001b[1;34m(self, iterable)\u001b[0m\n\u001b[0;32m   1916\u001b[0m     output \u001b[38;5;241m=\u001b[39m \u001b[38;5;28mself\u001b[39m\u001b[38;5;241m.\u001b[39m_get_sequential_output(iterable)\n\u001b[0;32m   1917\u001b[0m     \u001b[38;5;28mnext\u001b[39m(output)\n\u001b[1;32m-> 1918\u001b[0m     \u001b[38;5;28;01mreturn\u001b[39;00m output \u001b[38;5;28;01mif\u001b[39;00m \u001b[38;5;28mself\u001b[39m\u001b[38;5;241m.\u001b[39mreturn_generator \u001b[38;5;28;01melse\u001b[39;00m \u001b[38;5;28mlist\u001b[39m(output)\n\u001b[0;32m   1920\u001b[0m \u001b[38;5;66;03m# Let's create an ID that uniquely identifies the current call. If the\u001b[39;00m\n\u001b[0;32m   1921\u001b[0m \u001b[38;5;66;03m# call is interrupted early and that the same instance is immediately\u001b[39;00m\n\u001b[0;32m   1922\u001b[0m \u001b[38;5;66;03m# re-used, this id will be used to prevent workers that were\u001b[39;00m\n\u001b[0;32m   1923\u001b[0m \u001b[38;5;66;03m# concurrently finalizing a task from the previous call to run the\u001b[39;00m\n\u001b[0;32m   1924\u001b[0m \u001b[38;5;66;03m# callback.\u001b[39;00m\n\u001b[0;32m   1925\u001b[0m \u001b[38;5;28;01mwith\u001b[39;00m \u001b[38;5;28mself\u001b[39m\u001b[38;5;241m.\u001b[39m_lock:\n",
      "File \u001b[1;32m~\\Anaconda3\\Lib\\site-packages\\joblib\\parallel.py:1844\u001b[0m, in \u001b[0;36mParallel._get_sequential_output\u001b[1;34m(self, iterable)\u001b[0m\n\u001b[0;32m   1841\u001b[0m \u001b[38;5;28;01myield\u001b[39;00m \u001b[38;5;28;01mNone\u001b[39;00m\n\u001b[0;32m   1843\u001b[0m \u001b[38;5;66;03m# Sequentially call the tasks and yield the results.\u001b[39;00m\n\u001b[1;32m-> 1844\u001b[0m \u001b[38;5;28;01mfor\u001b[39;00m func, args, kwargs \u001b[38;5;129;01min\u001b[39;00m iterable:\n\u001b[0;32m   1845\u001b[0m     \u001b[38;5;28mself\u001b[39m\u001b[38;5;241m.\u001b[39mn_dispatched_batches \u001b[38;5;241m+\u001b[39m\u001b[38;5;241m=\u001b[39m \u001b[38;5;241m1\u001b[39m\n\u001b[0;32m   1846\u001b[0m     \u001b[38;5;28mself\u001b[39m\u001b[38;5;241m.\u001b[39mn_dispatched_tasks \u001b[38;5;241m+\u001b[39m\u001b[38;5;241m=\u001b[39m \u001b[38;5;241m1\u001b[39m\n",
      "File \u001b[1;32m~\\Anaconda3\\Lib\\site-packages\\sklearn\\utils\\parallel.py:63\u001b[0m, in \u001b[0;36m<genexpr>\u001b[1;34m(.0)\u001b[0m\n\u001b[0;32m     58\u001b[0m \u001b[38;5;66;03m# Capture the thread-local scikit-learn configuration at the time\u001b[39;00m\n\u001b[0;32m     59\u001b[0m \u001b[38;5;66;03m# Parallel.__call__ is issued since the tasks can be dispatched\u001b[39;00m\n\u001b[0;32m     60\u001b[0m \u001b[38;5;66;03m# in a different thread depending on the backend and on the value of\u001b[39;00m\n\u001b[0;32m     61\u001b[0m \u001b[38;5;66;03m# pre_dispatch and n_jobs.\u001b[39;00m\n\u001b[0;32m     62\u001b[0m config \u001b[38;5;241m=\u001b[39m get_config()\n\u001b[1;32m---> 63\u001b[0m iterable_with_config \u001b[38;5;241m=\u001b[39m (\n\u001b[0;32m     64\u001b[0m     (_with_config(delayed_func, config), args, kwargs)\n\u001b[0;32m     65\u001b[0m     \u001b[38;5;28;01mfor\u001b[39;00m delayed_func, args, kwargs \u001b[38;5;129;01min\u001b[39;00m iterable\n\u001b[0;32m     66\u001b[0m )\n\u001b[0;32m     67\u001b[0m \u001b[38;5;28;01mreturn\u001b[39;00m \u001b[38;5;28msuper\u001b[39m()\u001b[38;5;241m.\u001b[39m\u001b[38;5;21m__call__\u001b[39m(iterable_with_config)\n",
      "File \u001b[1;32m~\\Anaconda3\\Lib\\site-packages\\sklearn\\model_selection\\_validation.py:430\u001b[0m, in \u001b[0;36m<genexpr>\u001b[1;34m(.0)\u001b[0m\n\u001b[0;32m    427\u001b[0m \u001b[38;5;66;03m# We clone the estimator to make sure that all the folds are\u001b[39;00m\n\u001b[0;32m    428\u001b[0m \u001b[38;5;66;03m# independent, and that it is pickle-able.\u001b[39;00m\n\u001b[0;32m    429\u001b[0m parallel \u001b[38;5;241m=\u001b[39m Parallel(n_jobs\u001b[38;5;241m=\u001b[39mn_jobs, verbose\u001b[38;5;241m=\u001b[39mverbose, pre_dispatch\u001b[38;5;241m=\u001b[39mpre_dispatch)\n\u001b[1;32m--> 430\u001b[0m results \u001b[38;5;241m=\u001b[39m parallel(\n\u001b[0;32m    431\u001b[0m     delayed(_fit_and_score)(\n\u001b[0;32m    432\u001b[0m         clone(estimator),\n\u001b[0;32m    433\u001b[0m         X,\n\u001b[0;32m    434\u001b[0m         y,\n\u001b[0;32m    435\u001b[0m         scorer\u001b[38;5;241m=\u001b[39mscorers,\n\u001b[0;32m    436\u001b[0m         train\u001b[38;5;241m=\u001b[39mtrain,\n\u001b[0;32m    437\u001b[0m         test\u001b[38;5;241m=\u001b[39mtest,\n\u001b[0;32m    438\u001b[0m         verbose\u001b[38;5;241m=\u001b[39mverbose,\n\u001b[0;32m    439\u001b[0m         parameters\u001b[38;5;241m=\u001b[39m\u001b[38;5;28;01mNone\u001b[39;00m,\n\u001b[0;32m    440\u001b[0m         fit_params\u001b[38;5;241m=\u001b[39mrouted_params\u001b[38;5;241m.\u001b[39mestimator\u001b[38;5;241m.\u001b[39mfit,\n\u001b[0;32m    441\u001b[0m         score_params\u001b[38;5;241m=\u001b[39mrouted_params\u001b[38;5;241m.\u001b[39mscorer\u001b[38;5;241m.\u001b[39mscore,\n\u001b[0;32m    442\u001b[0m         return_train_score\u001b[38;5;241m=\u001b[39mreturn_train_score,\n\u001b[0;32m    443\u001b[0m         return_times\u001b[38;5;241m=\u001b[39m\u001b[38;5;28;01mTrue\u001b[39;00m,\n\u001b[0;32m    444\u001b[0m         return_estimator\u001b[38;5;241m=\u001b[39mreturn_estimator,\n\u001b[0;32m    445\u001b[0m         error_score\u001b[38;5;241m=\u001b[39merror_score,\n\u001b[0;32m    446\u001b[0m     )\n\u001b[0;32m    447\u001b[0m     \u001b[38;5;28;01mfor\u001b[39;00m train, test \u001b[38;5;129;01min\u001b[39;00m indices\n\u001b[0;32m    448\u001b[0m )\n\u001b[0;32m    450\u001b[0m _warn_or_raise_about_fit_failures(results, error_score)\n\u001b[0;32m    452\u001b[0m \u001b[38;5;66;03m# For callable scoring, the return type is only know after calling. If the\u001b[39;00m\n\u001b[0;32m    453\u001b[0m \u001b[38;5;66;03m# return type is a dictionary, the error scores can now be inserted with\u001b[39;00m\n\u001b[0;32m    454\u001b[0m \u001b[38;5;66;03m# the correct key.\u001b[39;00m\n",
      "File \u001b[1;32m~\\Anaconda3\\Lib\\site-packages\\sklearn\\model_selection\\_split.py:377\u001b[0m, in \u001b[0;36m_BaseKFold.split\u001b[1;34m(self, X, y, groups)\u001b[0m\n\u001b[0;32m    369\u001b[0m \u001b[38;5;28;01mif\u001b[39;00m \u001b[38;5;28mself\u001b[39m\u001b[38;5;241m.\u001b[39mn_splits \u001b[38;5;241m>\u001b[39m n_samples:\n\u001b[0;32m    370\u001b[0m     \u001b[38;5;28;01mraise\u001b[39;00m \u001b[38;5;167;01mValueError\u001b[39;00m(\n\u001b[0;32m    371\u001b[0m         (\n\u001b[0;32m    372\u001b[0m             \u001b[38;5;124m\"\u001b[39m\u001b[38;5;124mCannot have number of splits n_splits=\u001b[39m\u001b[38;5;132;01m{0}\u001b[39;00m\u001b[38;5;124m greater\u001b[39m\u001b[38;5;124m\"\u001b[39m\n\u001b[0;32m    373\u001b[0m             \u001b[38;5;124m\"\u001b[39m\u001b[38;5;124m than the number of samples: n_samples=\u001b[39m\u001b[38;5;132;01m{1}\u001b[39;00m\u001b[38;5;124m.\u001b[39m\u001b[38;5;124m\"\u001b[39m\n\u001b[0;32m    374\u001b[0m         )\u001b[38;5;241m.\u001b[39mformat(\u001b[38;5;28mself\u001b[39m\u001b[38;5;241m.\u001b[39mn_splits, n_samples)\n\u001b[0;32m    375\u001b[0m     )\n\u001b[1;32m--> 377\u001b[0m \u001b[38;5;28;01mfor\u001b[39;00m train, test \u001b[38;5;129;01min\u001b[39;00m \u001b[38;5;28msuper\u001b[39m()\u001b[38;5;241m.\u001b[39msplit(X, y, groups):\n\u001b[0;32m    378\u001b[0m     \u001b[38;5;28;01myield\u001b[39;00m train, test\n",
      "File \u001b[1;32m~\\Anaconda3\\Lib\\site-packages\\sklearn\\model_selection\\_split.py:108\u001b[0m, in \u001b[0;36mBaseCrossValidator.split\u001b[1;34m(self, X, y, groups)\u001b[0m\n\u001b[0;32m    106\u001b[0m X, y, groups \u001b[38;5;241m=\u001b[39m indexable(X, y, groups)\n\u001b[0;32m    107\u001b[0m indices \u001b[38;5;241m=\u001b[39m np\u001b[38;5;241m.\u001b[39marange(_num_samples(X))\n\u001b[1;32m--> 108\u001b[0m \u001b[38;5;28;01mfor\u001b[39;00m test_index \u001b[38;5;129;01min\u001b[39;00m \u001b[38;5;28mself\u001b[39m\u001b[38;5;241m.\u001b[39m_iter_test_masks(X, y, groups):\n\u001b[0;32m    109\u001b[0m     train_index \u001b[38;5;241m=\u001b[39m indices[np\u001b[38;5;241m.\u001b[39mlogical_not(test_index)]\n\u001b[0;32m    110\u001b[0m     test_index \u001b[38;5;241m=\u001b[39m indices[test_index]\n",
      "File \u001b[1;32m~\\Anaconda3\\Lib\\site-packages\\sklearn\\model_selection\\_split.py:770\u001b[0m, in \u001b[0;36mStratifiedKFold._iter_test_masks\u001b[1;34m(self, X, y, groups)\u001b[0m\n\u001b[0;32m    769\u001b[0m \u001b[38;5;28;01mdef\u001b[39;00m \u001b[38;5;21m_iter_test_masks\u001b[39m(\u001b[38;5;28mself\u001b[39m, X, y\u001b[38;5;241m=\u001b[39m\u001b[38;5;28;01mNone\u001b[39;00m, groups\u001b[38;5;241m=\u001b[39m\u001b[38;5;28;01mNone\u001b[39;00m):\n\u001b[1;32m--> 770\u001b[0m     test_folds \u001b[38;5;241m=\u001b[39m \u001b[38;5;28mself\u001b[39m\u001b[38;5;241m.\u001b[39m_make_test_folds(X, y)\n\u001b[0;32m    771\u001b[0m     \u001b[38;5;28;01mfor\u001b[39;00m i \u001b[38;5;129;01min\u001b[39;00m \u001b[38;5;28mrange\u001b[39m(\u001b[38;5;28mself\u001b[39m\u001b[38;5;241m.\u001b[39mn_splits):\n\u001b[0;32m    772\u001b[0m         \u001b[38;5;28;01myield\u001b[39;00m test_folds \u001b[38;5;241m==\u001b[39m i\n",
      "File \u001b[1;32m~\\Anaconda3\\Lib\\site-packages\\sklearn\\model_selection\\_split.py:732\u001b[0m, in \u001b[0;36mStratifiedKFold._make_test_folds\u001b[1;34m(self, X, y)\u001b[0m\n\u001b[0;32m    730\u001b[0m min_groups \u001b[38;5;241m=\u001b[39m np\u001b[38;5;241m.\u001b[39mmin(y_counts)\n\u001b[0;32m    731\u001b[0m \u001b[38;5;28;01mif\u001b[39;00m np\u001b[38;5;241m.\u001b[39mall(\u001b[38;5;28mself\u001b[39m\u001b[38;5;241m.\u001b[39mn_splits \u001b[38;5;241m>\u001b[39m y_counts):\n\u001b[1;32m--> 732\u001b[0m     \u001b[38;5;28;01mraise\u001b[39;00m \u001b[38;5;167;01mValueError\u001b[39;00m(\n\u001b[0;32m    733\u001b[0m         \u001b[38;5;124m\"\u001b[39m\u001b[38;5;124mn_splits=\u001b[39m\u001b[38;5;132;01m%d\u001b[39;00m\u001b[38;5;124m cannot be greater than the\u001b[39m\u001b[38;5;124m\"\u001b[39m\n\u001b[0;32m    734\u001b[0m         \u001b[38;5;124m\"\u001b[39m\u001b[38;5;124m number of members in each class.\u001b[39m\u001b[38;5;124m\"\u001b[39m \u001b[38;5;241m%\u001b[39m (\u001b[38;5;28mself\u001b[39m\u001b[38;5;241m.\u001b[39mn_splits)\n\u001b[0;32m    735\u001b[0m     )\n\u001b[0;32m    736\u001b[0m \u001b[38;5;28;01mif\u001b[39;00m \u001b[38;5;28mself\u001b[39m\u001b[38;5;241m.\u001b[39mn_splits \u001b[38;5;241m>\u001b[39m min_groups:\n\u001b[0;32m    737\u001b[0m     warnings\u001b[38;5;241m.\u001b[39mwarn(\n\u001b[0;32m    738\u001b[0m         \u001b[38;5;124m\"\u001b[39m\u001b[38;5;124mThe least populated class in y has only \u001b[39m\u001b[38;5;132;01m%d\u001b[39;00m\u001b[38;5;124m\"\u001b[39m\n\u001b[0;32m    739\u001b[0m         \u001b[38;5;124m\"\u001b[39m\u001b[38;5;124m members, which is less than n_splits=\u001b[39m\u001b[38;5;132;01m%d\u001b[39;00m\u001b[38;5;124m.\u001b[39m\u001b[38;5;124m\"\u001b[39m\n\u001b[0;32m    740\u001b[0m         \u001b[38;5;241m%\u001b[39m (min_groups, \u001b[38;5;28mself\u001b[39m\u001b[38;5;241m.\u001b[39mn_splits),\n\u001b[0;32m    741\u001b[0m         \u001b[38;5;167;01mUserWarning\u001b[39;00m,\n\u001b[0;32m    742\u001b[0m     )\n",
      "\u001b[1;31mValueError\u001b[0m: n_splits=3 cannot be greater than the number of members in each class."
     ]
    }
   ],
   "source": [
    "X = epochs.get_data()\n",
    "y = events[:, -1]\n",
    "num = 4 #len(np.unique(y))\n",
    "\n",
    "print('shape of X: ', X.shape)\n",
    "print('shape of y: ', len(y))\n",
    "print(y)\n",
    "\n",
    "# cross validation\n",
    "skf = StratifiedKFold(n_splits=num-1)\n",
    "clf = make_pipeline(Covariances(estimator='lwf'), MDM())\n",
    "scr = cross_val_score(clf, X, y, cv=num-1)\n",
    "\n",
    "# print results of classification\n",
    "print('subject', files[subj_num])\n",
    "print('mean accuracy :', scr.mean())\n",
    "\n",
    "# get the spectral embedding of the epochs\n",
    "C = Covariances(estimator='lwf').fit_transform(X)\n",
    "emb = SpectralEmbedding(metric='riemann').fit_transform(C)\n",
    "\n",
    "# scatter plot of the embedded points\n",
    "fig = plt.figure(facecolor='white', figsize=(5.6, 5.2))\n",
    "colors = {1: 'r', 2: 'b', 3: 'black', 4:'cyan', 5:'purple', 6:'green', 7:'yellow', 8:'r', 9:'b', 10:'white'}\n",
    "for embi, yi in zip(emb, y):\n",
    "    plt.scatter(embi[0], embi[1], s=120, c=colors[yi])\n",
    "for yi in np.unique(y):\n",
    "    plt.scatter([], [], c=colors[yi])\n",
    "plt.xticks([-1, -0.5, 0.0, +0.5, 1.0])\n",
    "plt.yticks([-1, -0.5, 0.0, +0.5, 1.0])\n",
    "plt.legend()\n",
    "plt.title(\n",
    "    'Spectral embedding of the epochs from subject ' +\n",
    "    str(files[subj_num]),\n",
    "    fontsize=10)\n",
    "\n",
    "plt.show()\n"
   ]
  },
  {
   "cell_type": "code",
   "execution_count": 31,
   "id": "df2f78d7",
   "metadata": {},
   "outputs": [],
   "source": [
    "def X_all(data,tmin,tmax):\n",
    "    Xs = []\n",
    "    ys = []\n",
    "    for i in range(len(data)):\n",
    "        chnames = ['NBM']\n",
    "        chtypes = ['eeg']\n",
    "        X = data[i]['NBM_TABR'][~np.isnan(data[i]['NBM_TABR'])]\n",
    "        X = X.reshape(1,X.shape[0])\n",
    "        info = mne.create_info(ch_names=chnames, sfreq=512,\n",
    "                               ch_types=chtypes,\n",
    "                               verbose=False)\n",
    "        raw = mne.io.RawArray(data=X, info=info, verbose=False)\n",
    "\n",
    "        # detect the events and cut the signal into epochs\n",
    "        event_id = {str(x):x for x in data[i]['KSS'][:,1].astype('int64')}\n",
    "        newones = np.array([[0]*len(data[i]['KSS'])])\n",
    "        events = np.vstack([data[i]['KSS'][:,0],\n",
    "                            newones.ravel(),data[i]['KSS'][:,1]]).T.reshape(len(data[i]['KSS']),3).astype('int64')\n",
    "        epochs = mne.Epochs(raw, events, event_id, tmin=tmin, tmax=tmax, baseline=None,\n",
    "                            verbose=False)\n",
    "        del raw\n",
    "        \n",
    "        #epochs.plot(n_epochs=10, events=True)\n",
    "        \n",
    "        X = epochs.get_data().ravel().reshape((epochs.get_data().shape[0],epochs.get_data().shape[-1]))\n",
    "        y = events[:, -1]\n",
    "        \n",
    "        for k in range(X.shape[0]):\n",
    "            Xs.append(X[k])\n",
    "            ys.append(y[k])\n",
    "            \n",
    "    Xs1 = np.array(Xs)\n",
    "    ys1 = np.array(ys)\n",
    "        \n",
    "        \n",
    "    return Xs1,ys1"
   ]
  },
  {
   "cell_type": "code",
   "execution_count": 32,
   "id": "73c0308d",
   "metadata": {
    "scrolled": true
   },
   "outputs": [
    {
     "name": "stdout",
     "output_type": "stream",
     "text": [
      "Using data from preloaded Raw for 5 events and 255847 original time points ...\n",
      "0 bad epochs dropped\n",
      "Using data from preloaded Raw for 5 events and 255847 original time points ...\n",
      "Using data from preloaded Raw for 5 events and 255847 original time points ...\n",
      "Using data from preloaded Raw for 6 events and 255847 original time points ...\n",
      "0 bad epochs dropped\n",
      "Using data from preloaded Raw for 6 events and 255847 original time points ...\n",
      "Using data from preloaded Raw for 6 events and 255847 original time points ...\n",
      "Using data from preloaded Raw for 6 events and 255847 original time points ...\n",
      "0 bad epochs dropped\n",
      "Using data from preloaded Raw for 6 events and 255847 original time points ...\n",
      "Using data from preloaded Raw for 6 events and 255847 original time points ...\n",
      "Using data from preloaded Raw for 6 events and 255847 original time points ...\n",
      "0 bad epochs dropped\n",
      "Using data from preloaded Raw for 6 events and 255847 original time points ...\n",
      "Using data from preloaded Raw for 6 events and 255847 original time points ...\n",
      "Using data from preloaded Raw for 6 events and 255847 original time points ...\n",
      "0 bad epochs dropped\n",
      "Using data from preloaded Raw for 6 events and 255847 original time points ...\n",
      "Using data from preloaded Raw for 6 events and 255847 original time points ...\n",
      "Using data from preloaded Raw for 5 events and 255847 original time points ...\n",
      "0 bad epochs dropped\n",
      "Using data from preloaded Raw for 5 events and 255847 original time points ...\n",
      "Using data from preloaded Raw for 5 events and 255847 original time points ...\n",
      "Using data from preloaded Raw for 6 events and 255847 original time points ...\n",
      "0 bad epochs dropped\n",
      "Using data from preloaded Raw for 6 events and 255847 original time points ...\n",
      "Using data from preloaded Raw for 6 events and 255847 original time points ...\n",
      "Using data from preloaded Raw for 5 events and 255847 original time points ...\n",
      "0 bad epochs dropped\n",
      "Using data from preloaded Raw for 5 events and 255847 original time points ...\n",
      "Using data from preloaded Raw for 5 events and 255847 original time points ...\n",
      "Using data from preloaded Raw for 5 events and 255847 original time points ...\n",
      "0 bad epochs dropped\n",
      "Using data from preloaded Raw for 5 events and 255847 original time points ...\n",
      "Using data from preloaded Raw for 5 events and 255847 original time points ...\n",
      "Using data from preloaded Raw for 5 events and 255847 original time points ...\n",
      "0 bad epochs dropped\n",
      "Using data from preloaded Raw for 5 events and 255847 original time points ...\n",
      "Using data from preloaded Raw for 5 events and 255847 original time points ...\n",
      "Using data from preloaded Raw for 5 events and 255847 original time points ...\n",
      "0 bad epochs dropped\n",
      "Using data from preloaded Raw for 5 events and 255847 original time points ...\n",
      "Using data from preloaded Raw for 5 events and 255847 original time points ...\n",
      "Using data from preloaded Raw for 5 events and 255847 original time points ...\n",
      "0 bad epochs dropped\n",
      "Using data from preloaded Raw for 5 events and 255847 original time points ...\n",
      "Using data from preloaded Raw for 5 events and 255847 original time points ...\n",
      "Using data from preloaded Raw for 5 events and 255847 original time points ...\n",
      "0 bad epochs dropped\n",
      "Using data from preloaded Raw for 5 events and 255847 original time points ...\n",
      "Using data from preloaded Raw for 5 events and 255847 original time points ...\n",
      "Using data from preloaded Raw for 5 events and 255847 original time points ...\n",
      "0 bad epochs dropped\n",
      "Using data from preloaded Raw for 5 events and 255847 original time points ...\n",
      "Using data from preloaded Raw for 5 events and 255847 original time points ...\n",
      "Using data from preloaded Raw for 5 events and 255847 original time points ...\n",
      "0 bad epochs dropped\n",
      "Using data from preloaded Raw for 5 events and 255847 original time points ...\n",
      "Using data from preloaded Raw for 5 events and 255847 original time points ...\n",
      "Using data from preloaded Raw for 5 events and 255847 original time points ...\n",
      "0 bad epochs dropped\n",
      "Using data from preloaded Raw for 5 events and 255847 original time points ...\n",
      "Using data from preloaded Raw for 5 events and 255847 original time points ...\n",
      "Using data from preloaded Raw for 5 events and 255847 original time points ...\n",
      "0 bad epochs dropped\n",
      "Using data from preloaded Raw for 5 events and 255847 original time points ...\n",
      "Using data from preloaded Raw for 5 events and 255847 original time points ...\n",
      "Using data from preloaded Raw for 5 events and 255847 original time points ...\n",
      "0 bad epochs dropped\n",
      "Using data from preloaded Raw for 5 events and 255847 original time points ...\n",
      "Using data from preloaded Raw for 5 events and 255847 original time points ...\n",
      "Using data from preloaded Raw for 5 events and 255847 original time points ...\n",
      "0 bad epochs dropped\n",
      "Using data from preloaded Raw for 5 events and 255847 original time points ...\n",
      "Using data from preloaded Raw for 5 events and 255847 original time points ...\n",
      "Using data from preloaded Raw for 5 events and 255847 original time points ...\n",
      "0 bad epochs dropped\n",
      "Using data from preloaded Raw for 5 events and 255847 original time points ...\n",
      "Using data from preloaded Raw for 5 events and 255847 original time points ...\n",
      "Using data from preloaded Raw for 6 events and 255847 original time points ...\n",
      "0 bad epochs dropped\n",
      "Using data from preloaded Raw for 6 events and 255847 original time points ...\n",
      "Using data from preloaded Raw for 6 events and 255847 original time points ...\n",
      "Using data from preloaded Raw for 5 events and 255847 original time points ...\n",
      "0 bad epochs dropped\n",
      "Using data from preloaded Raw for 5 events and 255847 original time points ...\n",
      "Using data from preloaded Raw for 5 events and 255847 original time points ...\n",
      "Using data from preloaded Raw for 5 events and 255847 original time points ...\n",
      "0 bad epochs dropped\n",
      "Using data from preloaded Raw for 5 events and 255847 original time points ...\n",
      "Using data from preloaded Raw for 5 events and 255847 original time points ...\n"
     ]
    }
   ],
   "source": [
    "Xs,ys = X_all(data,0.3,500)"
   ]
  },
  {
   "cell_type": "code",
   "execution_count": 33,
   "id": "012601a6",
   "metadata": {},
   "outputs": [
    {
     "data": {
      "text/plain": [
       "(121, 255847)"
      ]
     },
     "execution_count": 33,
     "metadata": {},
     "output_type": "execute_result"
    }
   ],
   "source": [
    "Xs.shape"
   ]
  },
  {
   "cell_type": "code",
   "execution_count": 34,
   "id": "455341a9",
   "metadata": {},
   "outputs": [
    {
     "data": {
      "text/plain": [
       "(121,)"
      ]
     },
     "execution_count": 34,
     "metadata": {},
     "output_type": "execute_result"
    }
   ],
   "source": [
    "ys.shape"
   ]
  },
  {
   "cell_type": "code",
   "execution_count": 35,
   "id": "6cfd5f77",
   "metadata": {},
   "outputs": [],
   "source": [
    "np.savetxt(\"edenband_X.csv\", Xs, delimiter=\",\")\n",
    "np.savetxt(\"edenband_y.csv\", ys, delimiter=\",\")"
   ]
  },
  {
   "cell_type": "code",
   "execution_count": 139,
   "id": "830d4d82",
   "metadata": {},
   "outputs": [],
   "source": [
    "Xs_train, Xs_test, ys_train, ys_test = train_test_split(Xs,ys,train_size=0.8)\n",
    "scaler = StandardScaler()\n",
    "scaler = scaler.fit(Xs_train)\n",
    "\n",
    "Xs_train = scaler.transform(Xs_train)\n",
    "Xs_test = scaler.transform(Xs_test)"
   ]
  },
  {
   "cell_type": "code",
   "execution_count": 140,
   "id": "b0bb38a0",
   "metadata": {},
   "outputs": [
    {
     "data": {
      "text/plain": [
       "(96, 255847)"
      ]
     },
     "execution_count": 140,
     "metadata": {},
     "output_type": "execute_result"
    }
   ],
   "source": [
    "Xs_train.shape"
   ]
  },
  {
   "cell_type": "code",
   "execution_count": 141,
   "id": "156a3820",
   "metadata": {},
   "outputs": [
    {
     "data": {
      "text/plain": [
       "(25, 255847)"
      ]
     },
     "execution_count": 141,
     "metadata": {},
     "output_type": "execute_result"
    }
   ],
   "source": [
    "Xs_test.shape"
   ]
  },
  {
   "cell_type": "code",
   "execution_count": 142,
   "id": "43b54a01",
   "metadata": {},
   "outputs": [
    {
     "data": {
      "text/plain": [
       "255847"
      ]
     },
     "execution_count": 142,
     "metadata": {},
     "output_type": "execute_result"
    }
   ],
   "source": [
    "len(Xs_train.T)"
   ]
  },
  {
   "cell_type": "code",
   "execution_count": 143,
   "id": "9170acc8",
   "metadata": {},
   "outputs": [
    {
     "data": {
      "text/plain": [
       "96"
      ]
     },
     "execution_count": 143,
     "metadata": {},
     "output_type": "execute_result"
    }
   ],
   "source": [
    "len(Xs_train)"
   ]
  },
  {
   "cell_type": "code",
   "execution_count": 157,
   "id": "231cabd6",
   "metadata": {},
   "outputs": [
    {
     "ename": "MemoryError",
     "evalue": "Unable to allocate 195. MiB for an array with shape (255746, 100) and data type float64",
     "output_type": "error",
     "traceback": [
      "\u001b[1;31m---------------------------------------------------------------------------\u001b[0m",
      "\u001b[1;31mMemoryError\u001b[0m                               Traceback (most recent call last)",
      "Cell \u001b[1;32mIn[157], line 12\u001b[0m\n\u001b[0;32m      9\u001b[0m     \u001b[38;5;28;01mreturn\u001b[39;00m np\u001b[38;5;241m.\u001b[39marray(dataX), np\u001b[38;5;241m.\u001b[39marray(dataY)\n\u001b[0;32m     11\u001b[0m X_train,y_train \u001b[38;5;241m=\u001b[39m create_dataset(Xs_train[\u001b[38;5;241m0\u001b[39m])\n\u001b[1;32m---> 12\u001b[0m X_test,y_test \u001b[38;5;241m=\u001b[39m create_dataset(Xs_test[\u001b[38;5;241m0\u001b[39m])\n\u001b[0;32m     15\u001b[0m \u001b[38;5;28mprint\u001b[39m(\u001b[38;5;124mf\u001b[39m\u001b[38;5;124m'\u001b[39m\u001b[38;5;124mTraining shape: \u001b[39m\u001b[38;5;132;01m{\u001b[39;00mX_train\u001b[38;5;241m.\u001b[39mshape\u001b[38;5;132;01m}\u001b[39;00m\u001b[38;5;124m'\u001b[39m)\n\u001b[0;32m     16\u001b[0m \u001b[38;5;28mprint\u001b[39m(\u001b[38;5;124mf\u001b[39m\u001b[38;5;124m'\u001b[39m\u001b[38;5;124mTesting shape: \u001b[39m\u001b[38;5;132;01m{\u001b[39;00my_train\u001b[38;5;241m.\u001b[39mshape\u001b[38;5;132;01m}\u001b[39;00m\u001b[38;5;124m'\u001b[39m)\n",
      "Cell \u001b[1;32mIn[157], line 9\u001b[0m, in \u001b[0;36mcreate_dataset\u001b[1;34m(dataset, look_back)\u001b[0m\n\u001b[0;32m      7\u001b[0m     dataX\u001b[38;5;241m.\u001b[39mappend(a)\n\u001b[0;32m      8\u001b[0m     dataY\u001b[38;5;241m.\u001b[39mappend(dataset\u001b[38;5;241m.\u001b[39mT[i \u001b[38;5;241m+\u001b[39m look_back])\n\u001b[1;32m----> 9\u001b[0m \u001b[38;5;28;01mreturn\u001b[39;00m np\u001b[38;5;241m.\u001b[39marray(dataX), np\u001b[38;5;241m.\u001b[39marray(dataY)\n",
      "\u001b[1;31mMemoryError\u001b[0m: Unable to allocate 195. MiB for an array with shape (255746, 100) and data type float64"
     ]
    }
   ],
   "source": [
    "TIME_STEPS = 100\n",
    "\n",
    "def create_dataset(dataset, look_back=TIME_STEPS):\n",
    "    dataX, dataY = [], []\n",
    "    for i in range(len(dataset.T)-look_back-1):\n",
    "        a = dataset.T[i:(i+look_back)]\n",
    "        dataX.append(a)\n",
    "        dataY.append(dataset.T[i + look_back])\n",
    "    return np.array(dataX), np.array(dataY)\n",
    "\n",
    "X_train,y_train = create_dataset(Xs_train[0])\n",
    "X_test,y_test = create_dataset(Xs_test[0])\n",
    "\n",
    "\n",
    "print(f'Training shape: {X_train.shape}')\n",
    "print(f'Testing shape: {y_train.shape}')\n",
    "print(f'Training shape: {X_test.shape}')\n",
    "print(f'Testing shape: {y_test.shape}')\n",
    "\n",
    "# reshape input to be [samples, time steps, features]\n",
    "X_train = np.reshape(X_train, (X_train.shape[0], 1, X_train.shape[1]))\n",
    "X_test = np.reshape(X_test, (X_test.shape[0], 1, X_test.shape[1]))\n",
    "\n",
    "\n",
    "print(f'Training shape: {X_train.shape}')\n",
    "print(f'Testing shape: {y_train.shape}')\n",
    "print(f'Training shape: {X_test.shape}')\n",
    "print(f'Testing shape: {y_test.shape}')"
   ]
  },
  {
   "cell_type": "code",
   "execution_count": 707,
   "id": "848c1cd2",
   "metadata": {},
   "outputs": [
    {
     "data": {
      "text/plain": [
       "6.245454545454545"
      ]
     },
     "execution_count": 707,
     "metadata": {},
     "output_type": "execute_result"
    }
   ],
   "source": [
    "data[3]['KSS'][0,0]"
   ]
  },
  {
   "cell_type": "code",
   "execution_count": 720,
   "id": "fdff20ec",
   "metadata": {},
   "outputs": [
    {
     "data": {
      "text/plain": [
       "1024.1727272727273"
      ]
     },
     "execution_count": 720,
     "metadata": {},
     "output_type": "execute_result"
    }
   ],
   "source": [
    "data[3]['KSS'][1,0]"
   ]
  },
  {
   "cell_type": "code",
   "execution_count": 954,
   "id": "4445785a",
   "metadata": {},
   "outputs": [],
   "source": [
    "def segmentation(data,window=100):\n",
    "    seg_x = {}\n",
    "    seg_y = {}\n",
    "    n = 0\n",
    "    for k in range(len(data)):\n",
    "        for i in range(len(data[k]['KSS'])):\n",
    "            if i == 0:\n",
    "                pass\n",
    "#            elif i == len(data[k]['KSS'])-1:\n",
    "#                pass\n",
    "            else:\n",
    "                n += 1\n",
    "                xaxis = data[k]['KSS'][i,0]\n",
    "                idx = np.nanargmin(np.abs(np.asarray(data[k]['ts_NBM_Sim'].ravel()) - xaxis))\n",
    "                seg_x[str(n)] = data[k]['NBM_TABR'][(idx-window):(idx+window)]\n",
    "                seg_y[str(n)] = data[k]['KSS'][i,1]\n",
    "    return seg_x,seg_y"
   ]
  },
  {
   "cell_type": "code",
   "execution_count": 981,
   "id": "d2d211a0",
   "metadata": {},
   "outputs": [],
   "source": [
    "seg_x,seg_y = segmentation(data,1000)"
   ]
  },
  {
   "cell_type": "code",
   "execution_count": 982,
   "id": "7b845250",
   "metadata": {},
   "outputs": [],
   "source": [
    "X = []\n",
    "y = []\n",
    "for i in range(len(seg_y)):\n",
    "    X.append(list(list(seg_x.values())[i]))\n",
    "    y.append(list(seg_y.values())[i])"
   ]
  },
  {
   "cell_type": "code",
   "execution_count": 983,
   "id": "3670dce2",
   "metadata": {},
   "outputs": [
    {
     "data": {
      "text/plain": [
       "2000"
      ]
     },
     "execution_count": 983,
     "metadata": {},
     "output_type": "execute_result"
    }
   ],
   "source": [
    "len(seg_x['12'])"
   ]
  },
  {
   "cell_type": "code",
   "execution_count": 984,
   "id": "8c9e6e61",
   "metadata": {},
   "outputs": [
    {
     "data": {
      "text/plain": [
       "(98, 2000, 1)"
      ]
     },
     "execution_count": 984,
     "metadata": {},
     "output_type": "execute_result"
    }
   ],
   "source": [
    "np.array(X).shape"
   ]
  },
  {
   "cell_type": "code",
   "execution_count": 985,
   "id": "d7a30528",
   "metadata": {},
   "outputs": [],
   "source": [
    "X = np.array(X).reshape(98,2000)"
   ]
  },
  {
   "cell_type": "code",
   "execution_count": 1053,
   "id": "338405e5",
   "metadata": {},
   "outputs": [],
   "source": [
    "t = StandardScaler().fit_transform(X[8].reshape(-1, 1))"
   ]
  },
  {
   "cell_type": "code",
   "execution_count": 1054,
   "id": "bfa4e615",
   "metadata": {},
   "outputs": [
    {
     "data": {
      "text/plain": [
       "[<matplotlib.lines.Line2D at 0x21fab037c50>]"
      ]
     },
     "execution_count": 1054,
     "metadata": {},
     "output_type": "execute_result"
    },
    {
     "data": {
      "image/png": "[encoded data removed]",
      "text/plain": [
       "<Figure size 640x480 with 1 Axes>"
      ]
     },
     "metadata": {},
     "output_type": "display_data"
    }
   ],
   "source": [
    "plt.plot(t)"
   ]
  },
  {
   "cell_type": "code",
   "execution_count": 986,
   "id": "7a65b054",
   "metadata": {},
   "outputs": [
    {
     "name": "stdout",
     "output_type": "stream",
     "text": [
      "98 [2000, 2000, 2000, 2000, 2000, 2000, 2000, 2000, 2000, 2000, 2000, 2000, 2000, 2000, 2000, 2000, 2000, 2000, 2000, 2000, 2000, 2000, 2000, 2000, 2000, 2000, 2000, 2000, 2000, 2000, 2000, 2000, 2000, 2000, 2000, 2000, 2000, 2000, 2000, 2000, 2000, 2000, 2000, 2000, 2000, 2000, 2000, 2000, 2000, 2000, 2000, 2000, 2000, 2000, 2000, 2000, 2000, 2000, 2000, 2000, 2000, 2000, 2000, 2000, 2000, 2000, 2000, 2000, 2000, 2000, 2000, 2000, 2000, 2000, 2000, 2000, 2000, 2000, 2000, 2000, 2000, 2000, 2000, 2000, 2000, 2000, 2000, 2000, 2000, 2000, 2000, 2000, 2000, 2000, 2000, 2000, 2000, 2000]\n"
     ]
    }
   ],
   "source": [
    "print(len(X), [len(x) for x in X])"
   ]
  },
  {
   "cell_type": "code",
   "execution_count": 1044,
   "id": "3c5305a6",
   "metadata": {},
   "outputs": [
    {
     "name": "stdout",
     "output_type": "stream",
     "text": [
      "mean accuracy : 0.3489473684210526\n"
     ]
    },
    {
     "name": "stderr",
     "output_type": "stream",
     "text": [
      "C:\\Users\\brian\\Anaconda3\\Lib\\site-packages\\sklearn\\model_selection\\_split.py:737: UserWarning: The least populated class in y has only 3 members, which is less than n_splits=5.\n",
      "  warnings.warn(\n",
      "C:\\Users\\brian\\Anaconda3\\Lib\\site-packages\\sklearn\\model_selection\\_split.py:737: UserWarning: The least populated class in y has only 3 members, which is less than n_splits=5.\n",
      "  warnings.warn(\n"
     ]
    }
   ],
   "source": [
    "# cross validation\n",
    "skf = StratifiedKFold(n_splits=5)\n",
    "clf = make_pipeline(\n",
    "    #StandardScaler(),\n",
    "    SVC(gamma='auto')\n",
    ")\n",
    "scr = cross_val_score(clf, X, y, cv=skf, scoring=\"accuracy\")\n",
    "preds = cross_val_predict(clf, X, y, cv=skf)\n",
    "\n",
    "# print results of classification\n",
    "print('mean accuracy :', scr.mean())"
   ]
  },
  {
   "cell_type": "code",
   "execution_count": 1005,
   "id": "e08cceda",
   "metadata": {},
   "outputs": [
    {
     "data": {
      "text/plain": [
       "array([[ -8.02771665,  -8.02743355,  -8.02715026, ...,  -7.33615269,\n",
       "         -7.33584729,  -7.33554192],\n",
       "       [  1.08056069,   1.0804816 ,   1.08040123, ...,   0.71085779,\n",
       "          0.71073423,   0.71061159],\n",
       "       [  0.73707756,   0.73682945,   0.73658172, ...,   0.03122219,\n",
       "          0.03091891,   0.03061517],\n",
       "       ...,\n",
       "       [ -7.26047513,  -7.26049735,  -7.26051954, ...,  -7.45307827,\n",
       "         -7.45299263,  -7.45290613],\n",
       "       [ -3.31619018,  -3.31640624,  -3.31662192, ...,  -2.95834134,\n",
       "         -2.95809525,  -2.95784942],\n",
       "       [-11.06288398, -11.06309263, -11.06330084, ..., -11.36598022,\n",
       "        -11.36632404, -11.36666792]])"
      ]
     },
     "execution_count": 1005,
     "metadata": {},
     "output_type": "execute_result"
    }
   ],
   "source": [
    "X"
   ]
  },
  {
   "cell_type": "code",
   "execution_count": 1007,
   "id": "7ab2c1a7",
   "metadata": {},
   "outputs": [
    {
     "data": {
      "text/plain": [
       "array([6., 6., 6., 9., 4., 4., 4., 5., 5., 5., 6., 7., 7., 7., 4., 4., 4.,\n",
       "       4., 5., 5., 6., 6., 6., 6., 3., 3., 3., 3., 6., 6., 5., 6., 5., 4.,\n",
       "       4., 4., 3., 6., 6., 7., 5., 4., 3., 7., 6., 6., 7., 7., 9., 3., 2.,\n",
       "       2., 2., 6., 7., 8., 9., 2., 6., 7., 6., 6., 7., 8., 9., 5., 5., 6.,\n",
       "       6., 5., 5., 7., 5., 3., 5., 6., 3., 3., 5., 4., 5., 5., 5., 6., 6.,\n",
       "       6., 7., 6., 7., 8., 3., 3., 3., 3., 5., 6., 6., 6.])"
      ]
     },
     "execution_count": 1007,
     "metadata": {},
     "output_type": "execute_result"
    }
   ],
   "source": [
    "np.array(y)"
   ]
  },
  {
   "cell_type": "code",
   "execution_count": 1034,
   "id": "7b8efdb6",
   "metadata": {
    "scrolled": true
   },
   "outputs": [
    {
     "data": {
      "text/plain": [
       "array([6., 4., 4., 6., 6., 6., 6., 7., 3., 3., 6., 6., 6., 6., 6., 6., 6.,\n",
       "       6., 4., 6., 6., 6., 6., 3., 6., 5., 6., 5., 6., 3., 6., 6., 6., 6.,\n",
       "       6., 6., 3., 6., 6., 6., 6., 6., 6., 6., 7., 6., 6., 4., 7., 6., 6.,\n",
       "       6., 7., 6., 7., 6., 9., 6., 6., 6., 6., 6., 7., 6., 9., 6., 5., 6.,\n",
       "       6., 6., 6., 6., 5., 7., 6., 6., 7., 6., 6., 6., 5., 5., 5., 6., 6.,\n",
       "       6., 5., 6., 5., 6., 6., 6., 6., 6., 6., 6., 6., 6.])"
      ]
     },
     "execution_count": 1034,
     "metadata": {},
     "output_type": "execute_result"
    }
   ],
   "source": [
    "preds"
   ]
  },
  {
   "cell_type": "code",
   "execution_count": 1031,
   "id": "069b040d",
   "metadata": {},
   "outputs": [
    {
     "data": {
      "text/plain": [
       "(98, 1, 2000)"
      ]
     },
     "execution_count": 1031,
     "metadata": {},
     "output_type": "execute_result"
    }
   ],
   "source": [
    "X.reshape(98,1,2000).shape"
   ]
  },
  {
   "cell_type": "code",
   "execution_count": 1013,
   "id": "0a03359a",
   "metadata": {},
   "outputs": [
    {
     "data": {
      "text/html": [
       "<pre style=\"white-space:pre;overflow-x:auto;line-height:normal;font-family:Menlo,'DejaVu Sans Mono',consolas,'Courier New',monospace\"><span style=\"font-weight: bold\">Model: \"sequential_3\"</span>\n",
       "</pre>\n"
      ],
      "text/plain": [
       "\u001b[1mModel: \"sequential_3\"\u001b[0m\n"
      ]
     },
     "metadata": {},
     "output_type": "display_data"
    },
    {
     "data": {
      "text/html": [
       "<pre style=\"white-space:pre;overflow-x:auto;line-height:normal;font-family:Menlo,'DejaVu Sans Mono',consolas,'Courier New',monospace\">┏━━━━━━━━━━━━━━━━━━━━━━━━━━━━━━━━━━━━┳━━━━━━━━━━━━━━━━━━━━━━━━━━━━━━━┳━━━━━━━━━━━━━┓\n",
       "┃<span style=\"font-weight: bold\"> Layer (type)                       </span>┃<span style=\"font-weight: bold\"> Output Shape                  </span>┃<span style=\"font-weight: bold\">     Param # </span>┃\n",
       "┡━━━━━━━━━━━━━━━━━━━━━━━━━━━━━━━━━━━━╇━━━━━━━━━━━━━━━━━━━━━━━━━━━━━━━╇━━━━━━━━━━━━━┩\n",
       "│ lstm_3 (<span style=\"color: #0087ff; text-decoration-color: #0087ff\">LSTM</span>)                      │ (<span style=\"color: #00d7ff; text-decoration-color: #00d7ff\">None</span>, <span style=\"color: #00af00; text-decoration-color: #00af00\">128</span>)                   │   <span style=\"color: #00af00; text-decoration-color: #00af00\">1,090,048</span> │\n",
       "├────────────────────────────────────┼───────────────────────────────┼─────────────┤\n",
       "│ dropout_2 (<span style=\"color: #0087ff; text-decoration-color: #0087ff\">Dropout</span>)                │ (<span style=\"color: #00d7ff; text-decoration-color: #00d7ff\">None</span>, <span style=\"color: #00af00; text-decoration-color: #00af00\">128</span>)                   │           <span style=\"color: #00af00; text-decoration-color: #00af00\">0</span> │\n",
       "├────────────────────────────────────┼───────────────────────────────┼─────────────┤\n",
       "│ repeat_vector_1 (<span style=\"color: #0087ff; text-decoration-color: #0087ff\">RepeatVector</span>)     │ (<span style=\"color: #00d7ff; text-decoration-color: #00d7ff\">None</span>, <span style=\"color: #00af00; text-decoration-color: #00af00\">2000</span>, <span style=\"color: #00af00; text-decoration-color: #00af00\">128</span>)             │           <span style=\"color: #00af00; text-decoration-color: #00af00\">0</span> │\n",
       "├────────────────────────────────────┼───────────────────────────────┼─────────────┤\n",
       "│ lstm_4 (<span style=\"color: #0087ff; text-decoration-color: #0087ff\">LSTM</span>)                      │ (<span style=\"color: #00d7ff; text-decoration-color: #00d7ff\">None</span>, <span style=\"color: #00af00; text-decoration-color: #00af00\">2000</span>, <span style=\"color: #00af00; text-decoration-color: #00af00\">128</span>)             │     <span style=\"color: #00af00; text-decoration-color: #00af00\">131,584</span> │\n",
       "├────────────────────────────────────┼───────────────────────────────┼─────────────┤\n",
       "│ dropout_3 (<span style=\"color: #0087ff; text-decoration-color: #0087ff\">Dropout</span>)                │ (<span style=\"color: #00d7ff; text-decoration-color: #00d7ff\">None</span>, <span style=\"color: #00af00; text-decoration-color: #00af00\">2000</span>, <span style=\"color: #00af00; text-decoration-color: #00af00\">128</span>)             │           <span style=\"color: #00af00; text-decoration-color: #00af00\">0</span> │\n",
       "├────────────────────────────────────┼───────────────────────────────┼─────────────┤\n",
       "│ time_distributed_1                 │ (<span style=\"color: #00d7ff; text-decoration-color: #00d7ff\">None</span>, <span style=\"color: #00af00; text-decoration-color: #00af00\">2000</span>, <span style=\"color: #00af00; text-decoration-color: #00af00\">2000</span>)            │     <span style=\"color: #00af00; text-decoration-color: #00af00\">258,000</span> │\n",
       "│ (<span style=\"color: #0087ff; text-decoration-color: #0087ff\">TimeDistributed</span>)                  │                               │             │\n",
       "└────────────────────────────────────┴───────────────────────────────┴─────────────┘\n",
       "</pre>\n"
      ],
      "text/plain": [
       "┏━━━━━━━━━━━━━━━━━━━━━━━━━━━━━━━━━━━━┳━━━━━━━━━━━━━━━━━━━━━━━━━━━━━━━┳━━━━━━━━━━━━━┓\n",
       "┃\u001b[1m \u001b[0m\u001b[1mLayer (type)                      \u001b[0m\u001b[1m \u001b[0m┃\u001b[1m \u001b[0m\u001b[1mOutput Shape                 \u001b[0m\u001b[1m \u001b[0m┃\u001b[1m \u001b[0m\u001b[1m    Param #\u001b[0m\u001b[1m \u001b[0m┃\n",
       "┡━━━━━━━━━━━━━━━━━━━━━━━━━━━━━━━━━━━━╇━━━━━━━━━━━━━━━━━━━━━━━━━━━━━━━╇━━━━━━━━━━━━━┩\n",
       "│ lstm_3 (\u001b[38;5;33mLSTM\u001b[0m)                      │ (\u001b[38;5;45mNone\u001b[0m, \u001b[38;5;34m128\u001b[0m)                   │   \u001b[38;5;34m1,090,048\u001b[0m │\n",
       "├────────────────────────────────────┼───────────────────────────────┼─────────────┤\n",
       "│ dropout_2 (\u001b[38;5;33mDropout\u001b[0m)                │ (\u001b[38;5;45mNone\u001b[0m, \u001b[38;5;34m128\u001b[0m)                   │           \u001b[38;5;34m0\u001b[0m │\n",
       "├────────────────────────────────────┼───────────────────────────────┼─────────────┤\n",
       "│ repeat_vector_1 (\u001b[38;5;33mRepeatVector\u001b[0m)     │ (\u001b[38;5;45mNone\u001b[0m, \u001b[38;5;34m2000\u001b[0m, \u001b[38;5;34m128\u001b[0m)             │           \u001b[38;5;34m0\u001b[0m │\n",
       "├────────────────────────────────────┼───────────────────────────────┼─────────────┤\n",
       "│ lstm_4 (\u001b[38;5;33mLSTM\u001b[0m)                      │ (\u001b[38;5;45mNone\u001b[0m, \u001b[38;5;34m2000\u001b[0m, \u001b[38;5;34m128\u001b[0m)             │     \u001b[38;5;34m131,584\u001b[0m │\n",
       "├────────────────────────────────────┼───────────────────────────────┼─────────────┤\n",
       "│ dropout_3 (\u001b[38;5;33mDropout\u001b[0m)                │ (\u001b[38;5;45mNone\u001b[0m, \u001b[38;5;34m2000\u001b[0m, \u001b[38;5;34m128\u001b[0m)             │           \u001b[38;5;34m0\u001b[0m │\n",
       "├────────────────────────────────────┼───────────────────────────────┼─────────────┤\n",
       "│ time_distributed_1                 │ (\u001b[38;5;45mNone\u001b[0m, \u001b[38;5;34m2000\u001b[0m, \u001b[38;5;34m2000\u001b[0m)            │     \u001b[38;5;34m258,000\u001b[0m │\n",
       "│ (\u001b[38;5;33mTimeDistributed\u001b[0m)                  │                               │             │\n",
       "└────────────────────────────────────┴───────────────────────────────┴─────────────┘\n"
      ]
     },
     "metadata": {},
     "output_type": "display_data"
    },
    {
     "data": {
      "text/html": [
       "<pre style=\"white-space:pre;overflow-x:auto;line-height:normal;font-family:Menlo,'DejaVu Sans Mono',consolas,'Courier New',monospace\"><span style=\"font-weight: bold\"> Total params: </span><span style=\"color: #00af00; text-decoration-color: #00af00\">1,479,632</span> (5.64 MB)\n",
       "</pre>\n"
      ],
      "text/plain": [
       "\u001b[1m Total params: \u001b[0m\u001b[38;5;34m1,479,632\u001b[0m (5.64 MB)\n"
      ]
     },
     "metadata": {},
     "output_type": "display_data"
    },
    {
     "data": {
      "text/html": [
       "<pre style=\"white-space:pre;overflow-x:auto;line-height:normal;font-family:Menlo,'DejaVu Sans Mono',consolas,'Courier New',monospace\"><span style=\"font-weight: bold\"> Trainable params: </span><span style=\"color: #00af00; text-decoration-color: #00af00\">1,479,632</span> (5.64 MB)\n",
       "</pre>\n"
      ],
      "text/plain": [
       "\u001b[1m Trainable params: \u001b[0m\u001b[38;5;34m1,479,632\u001b[0m (5.64 MB)\n"
      ]
     },
     "metadata": {},
     "output_type": "display_data"
    },
    {
     "data": {
      "text/html": [
       "<pre style=\"white-space:pre;overflow-x:auto;line-height:normal;font-family:Menlo,'DejaVu Sans Mono',consolas,'Courier New',monospace\"><span style=\"font-weight: bold\"> Non-trainable params: </span><span style=\"color: #00af00; text-decoration-color: #00af00\">0</span> (0.00 B)\n",
       "</pre>\n"
      ],
      "text/plain": [
       "\u001b[1m Non-trainable params: \u001b[0m\u001b[38;5;34m0\u001b[0m (0.00 B)\n"
      ]
     },
     "metadata": {},
     "output_type": "display_data"
    }
   ],
   "source": [
    "window = 2000\n",
    "model = Sequential()\n",
    "model.add(LSTM(128, input_shape=(1,window)))\n",
    "model.add(Dropout(rate=0.2))\n",
    "model.add(RepeatVector(window))\n",
    "model.add(LSTM(128, return_sequences=True))\n",
    "model.add(Dropout(rate=0.2))\n",
    "model.add(TimeDistributed(Dense(window)))\n",
    "model.compile(optimizer='adam', loss='mae')\n",
    "model.summary()"
   ]
  },
  {
   "cell_type": "code",
   "execution_count": 1023,
   "id": "98b824b1",
   "metadata": {},
   "outputs": [],
   "source": [
    "X = np.asarray(X)"
   ]
  },
  {
   "cell_type": "code",
   "execution_count": 1025,
   "id": "475aaf85",
   "metadata": {},
   "outputs": [
    {
     "data": {
      "text/plain": [
       "array([[ -8.02771665,  -8.02743355,  -8.02715026, ...,  -7.33615269,\n",
       "         -7.33584729,  -7.33554192],\n",
       "       [  1.08056069,   1.0804816 ,   1.08040123, ...,   0.71085779,\n",
       "          0.71073423,   0.71061159],\n",
       "       [  0.73707756,   0.73682945,   0.73658172, ...,   0.03122219,\n",
       "          0.03091891,   0.03061517],\n",
       "       ...,\n",
       "       [ -7.26047513,  -7.26049735,  -7.26051954, ...,  -7.45307827,\n",
       "         -7.45299263,  -7.45290613],\n",
       "       [ -3.31619018,  -3.31640624,  -3.31662192, ...,  -2.95834134,\n",
       "         -2.95809525,  -2.95784942],\n",
       "       [-11.06288398, -11.06309263, -11.06330084, ..., -11.36598022,\n",
       "        -11.36632404, -11.36666792]])"
      ]
     },
     "execution_count": 1025,
     "metadata": {},
     "output_type": "execute_result"
    }
   ],
   "source": [
    "X"
   ]
  },
  {
   "cell_type": "code",
   "execution_count": 1033,
   "id": "74f854c8",
   "metadata": {},
   "outputs": [
    {
     "ename": "IndexError",
     "evalue": "tuple index out of range",
     "output_type": "error",
     "traceback": [
      "\u001b[1;31m---------------------------------------------------------------------------\u001b[0m",
      "\u001b[1;31mIndexError\u001b[0m                                Traceback (most recent call last)",
      "Cell \u001b[1;32mIn[1033], line 1\u001b[0m\n\u001b[1;32m----> 1\u001b[0m history \u001b[38;5;241m=\u001b[39m model\u001b[38;5;241m.\u001b[39mfit(X\u001b[38;5;241m.\u001b[39mreshape(\u001b[38;5;241m98\u001b[39m,\u001b[38;5;241m1\u001b[39m,\u001b[38;5;241m2000\u001b[39m), \n\u001b[0;32m      2\u001b[0m                     y, \n\u001b[0;32m      3\u001b[0m                     epochs\u001b[38;5;241m=\u001b[39m\u001b[38;5;241m100\u001b[39m, \n\u001b[0;32m      4\u001b[0m                     batch_size\u001b[38;5;241m=\u001b[39m\u001b[38;5;241m1\u001b[39m, \n\u001b[0;32m      5\u001b[0m                     \u001b[38;5;66;03m#validation_split=0.1,\u001b[39;00m\n\u001b[0;32m      6\u001b[0m                     callbacks\u001b[38;5;241m=\u001b[39m[keras\u001b[38;5;241m.\u001b[39mcallbacks\u001b[38;5;241m.\u001b[39mEarlyStopping(monitor\u001b[38;5;241m=\u001b[39m\u001b[38;5;124m'\u001b[39m\u001b[38;5;124mval_loss\u001b[39m\u001b[38;5;124m'\u001b[39m, patience\u001b[38;5;241m=\u001b[39m\u001b[38;5;241m3\u001b[39m, mode\u001b[38;5;241m=\u001b[39m\u001b[38;5;124m'\u001b[39m\u001b[38;5;124mmin\u001b[39m\u001b[38;5;124m'\u001b[39m)], \n\u001b[0;32m      7\u001b[0m                     shuffle\u001b[38;5;241m=\u001b[39m\u001b[38;5;28;01mFalse\u001b[39;00m)\n",
      "File \u001b[1;32m~\\Anaconda3\\Lib\\site-packages\\keras\\src\\utils\\traceback_utils.py:123\u001b[0m, in \u001b[0;36mfilter_traceback.<locals>.error_handler\u001b[1;34m(*args, **kwargs)\u001b[0m\n\u001b[0;32m    120\u001b[0m     filtered_tb \u001b[38;5;241m=\u001b[39m _process_traceback_frames(e\u001b[38;5;241m.\u001b[39m__traceback__)\n\u001b[0;32m    121\u001b[0m     \u001b[38;5;66;03m# To get the full stack trace, call:\u001b[39;00m\n\u001b[0;32m    122\u001b[0m     \u001b[38;5;66;03m# `keras.config.disable_traceback_filtering()`\u001b[39;00m\n\u001b[1;32m--> 123\u001b[0m     \u001b[38;5;28;01mraise\u001b[39;00m e\u001b[38;5;241m.\u001b[39mwith_traceback(filtered_tb) \u001b[38;5;28;01mfrom\u001b[39;00m \u001b[38;5;28;01mNone\u001b[39;00m\n\u001b[0;32m    124\u001b[0m \u001b[38;5;28;01mfinally\u001b[39;00m:\n\u001b[0;32m    125\u001b[0m     \u001b[38;5;28;01mdel\u001b[39;00m filtered_tb\n",
      "File \u001b[1;32m~\\Anaconda3\\Lib\\site-packages\\keras\\src\\trainers\\data_adapters\\data_adapter_utils.py:120\u001b[0m, in \u001b[0;36m<genexpr>\u001b[1;34m(.0)\u001b[0m\n\u001b[0;32m    119\u001b[0m \u001b[38;5;28;01mdef\u001b[39;00m \u001b[38;5;21mcheck_data_cardinality\u001b[39m(data):\n\u001b[1;32m--> 120\u001b[0m     num_samples \u001b[38;5;241m=\u001b[39m \u001b[38;5;28mset\u001b[39m(\u001b[38;5;28mint\u001b[39m(i\u001b[38;5;241m.\u001b[39mshape[\u001b[38;5;241m0\u001b[39m]) \u001b[38;5;28;01mfor\u001b[39;00m i \u001b[38;5;129;01min\u001b[39;00m tree\u001b[38;5;241m.\u001b[39mflatten(data))\n\u001b[0;32m    121\u001b[0m     \u001b[38;5;28;01mif\u001b[39;00m \u001b[38;5;28mlen\u001b[39m(num_samples) \u001b[38;5;241m>\u001b[39m \u001b[38;5;241m1\u001b[39m:\n\u001b[0;32m    122\u001b[0m         msg \u001b[38;5;241m=\u001b[39m (\n\u001b[0;32m    123\u001b[0m             \u001b[38;5;124m\"\u001b[39m\u001b[38;5;124mData cardinality is ambiguous. \u001b[39m\u001b[38;5;124m\"\u001b[39m\n\u001b[0;32m    124\u001b[0m             \u001b[38;5;124m\"\u001b[39m\u001b[38;5;124mMake sure all arrays contain the same number of samples.\u001b[39m\u001b[38;5;124m\"\u001b[39m\n\u001b[0;32m    125\u001b[0m         )\n",
      "\u001b[1;31mIndexError\u001b[0m: tuple index out of range"
     ]
    }
   ],
   "source": [
    "history = model.fit(X.reshape(98,1,2000), \n",
    "                    y, \n",
    "                    epochs=100, \n",
    "                    batch_size=1, \n",
    "                    #validation_split=0.1,\n",
    "                    callbacks=[keras.callbacks.EarlyStopping(monitor='val_loss', patience=3, mode='min')], \n",
    "                    shuffle=False)"
   ]
  },
  {
   "cell_type": "code",
   "execution_count": null,
   "id": "68278ce5",
   "metadata": {},
   "outputs": [],
   "source": [
    "plt.plot(history.history['loss'], label='Training loss')\n",
    "plt.plot(history.history['val_loss'], label='Validation loss')\n",
    "plt.legend();"
   ]
  },
  {
   "cell_type": "code",
   "execution_count": null,
   "id": "a83bc7d8",
   "metadata": {},
   "outputs": [],
   "source": [
    "model.evaluate(X_test, y_test)"
   ]
  },
  {
   "cell_type": "code",
   "execution_count": null,
   "id": "f04a1578",
   "metadata": {},
   "outputs": [],
   "source": [
    "X_train_pred = model.predict(X_train, verbose=0)\n",
    "train_mae_loss = np.mean(np.abs(X_train_pred - X_train), axis=1)\n",
    "\n",
    "plt.hist(train_mae_loss, bins=50)\n",
    "plt.xlabel('Train MAE loss')\n",
    "plt.ylabel('Number of Samples');\n",
    "\n",
    "threshold = np.max(train_mae_loss)\n",
    "print(f'Reconstruction error threshold: {threshold}')"
   ]
  },
  {
   "cell_type": "code",
   "execution_count": null,
   "id": "8f8c2e74",
   "metadata": {},
   "outputs": [],
   "source": [
    "X_test_pred = model.predict(X_test, verbose=0)\n",
    "test_mae_loss = np.mean(np.abs(X_test_pred-X_test), axis=1)\n",
    "\n",
    "plt.hist(test_mae_loss, bins=50)\n",
    "plt.xlabel('Test MAE loss')\n",
    "plt.ylabel('Number of samples');"
   ]
  },
  {
   "cell_type": "code",
   "execution_count": null,
   "id": "1abe32f4",
   "metadata": {},
   "outputs": [],
   "source": [
    "test_score_df = pd.DataFrame(test[TIME_STEPS:])\n",
    "test_score_df['loss'] = test_mae_loss\n",
    "test_score_df['threshold'] = threshold\n",
    "test_score_df['anomaly'] = test_score_df['loss'] > test_score_df['threshold']\n",
    "test_score_df['Close'] = test[TIME_STEPS:]['Close']\n",
    "\n",
    "fig = go.Figure()\n",
    "fig.add_trace(go.Scatter(x=test_score_df['Date'], y=test_score_df['loss'], name='Test loss'))\n",
    "fig.add_trace(go.Scatter(x=test_score_df['Date'], y=test_score_df['threshold'], name='Threshold'))\n",
    "fig.update_layout(showlegend=True, title='Test loss vs. Threshold')\n",
    "fig.show()"
   ]
  },
  {
   "cell_type": "code",
   "execution_count": null,
   "id": "685b7a0a",
   "metadata": {},
   "outputs": [],
   "source": [
    "anomalies = test_score_df.loc[test_score_df['anomaly'] == True]\n",
    "anomalies.shape"
   ]
  }
 ],
 "metadata": {
  "kernelspec": {
   "display_name": "Python 3 (ipykernel)",
   "language": "python",
   "name": "python3"
  },
  "language_info": {
   "codemirror_mode": {
    "name": "ipython",
    "version": 3
   },
   "file_extension": ".py",
   "mimetype": "text/x-python",
   "name": "python",
   "nbconvert_exporter": "python",
   "pygments_lexer": "ipython3",
   "version": "3.11.5"
  }
 },
 "nbformat": 4,
 "nbformat_minor": 5
}
