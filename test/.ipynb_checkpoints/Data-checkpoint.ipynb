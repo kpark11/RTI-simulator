{
 "cells": [
  {
   "cell_type": "code",
   "execution_count": 17,
   "id": "032473bb",
   "metadata": {},
   "outputs": [],
   "source": [
    "import pandas as pd\n",
    "import numpy as np\n",
    "from zipfile import ZipFile\n",
    "from io import BytesIO\n",
    "from io import StringIO\n",
    "import json"
   ]
  },
  {
   "cell_type": "code",
   "execution_count": 18,
   "id": "de4f2171",
   "metadata": {},
   "outputs": [],
   "source": [
    "file_path = r'C:\\Users\\brian\\OneDrive - University of Tennessee\\Desktop\\Research\\Python program\\EdenBand\\test\\data.zip'"
   ]
  },
  {
   "cell_type": "code",
   "execution_count": 24,
   "id": "9fbaffc2",
   "metadata": {},
   "outputs": [],
   "source": [
    "# a function to extract zipped files with text files\n",
    "def get_zip_files(path):\n",
    "    files = ZipFile(path)\n",
    "    \n",
    "    # get the file names into a list; you could use this list for different things \n",
    "    # and to get certain files etc.\n",
    "    listOfFilesNames = files.namelist()\n",
    "    \n",
    "    # open a file from the list; in this case position 23.  This part could be a loop etc. \n",
    "    # and if 'specificFileName' do something different etc.\n",
    "    articles = {}\n",
    "    for i in listOfFilesNames:\n",
    "        if i.endswith('.txt') and i.startswith('renewable'):\n",
    "            names = 'articleID' + i.replace('renewable-energy/','').replace('.txt','')\n",
    "            txt = str(files.open(i).read().decode(\"utf-8\"))\n",
    "            articles[names] = txt\n",
    "    print(listOfFilesNames)\n",
    "\n",
    "    # return the article as a dictionary to identify the article by the id.\n",
    "    # The key format is 'articleID#'  --->> # represents integer numbers\n",
    "    return files"
   ]
  },
  {
   "cell_type": "code",
   "execution_count": 25,
   "id": "e6b148b9",
   "metadata": {},
   "outputs": [
    {
     "name": "stdout",
     "output_type": "stream",
     "text": [
      "['subject_12.mat', 'subject_05.mat', 'subject_06.mat', 'subject_04.mat', 'subject_03.mat', 'subject_16.mat', 'subject_15.mat', 'subject_08.mat', 'subject_14.mat', 'subject_13.mat', 'subject_20.mat', 'subject_09.mat', 'subject_02.mat', 'subject_01.mat', 'subject_17.mat', 'subject_00.mat', 'subject_10.mat', 'subject_18.mat', 'subject_11.mat', 'subject_19.mat']\n"
     ]
    }
   ],
   "source": [
    "files = get_zip_files(file_path)"
   ]
  }
 ],
 "metadata": {
  "kernelspec": {
   "display_name": "Python 3 (ipykernel)",
   "language": "python",
   "name": "python3"
  },
  "language_info": {
   "codemirror_mode": {
    "name": "ipython",
    "version": 3
   },
   "file_extension": ".py",
   "mimetype": "text/x-python",
   "name": "python",
   "nbconvert_exporter": "python",
   "pygments_lexer": "ipython3",
   "version": "3.11.5"
  }
 },
 "nbformat": 4,
 "nbformat_minor": 5
}
